{
  "cells": [
    {
      "cell_type": "markdown",
      "metadata": {
        "id": "rjnuiotttwkx"
      },
      "source": [
        "## Données de Haute-Frequence - Lab 1\n",
        "ZHANG Mian\n",
        "CentraleSupélec"
      ]
    },
    {
      "cell_type": "markdown",
      "metadata": {
        "id": "GR0GwlKgtwk3"
      },
      "source": [
        "## 0. Imports and data loading"
      ]
    },
    {
      "cell_type": "code",
      "source": [
        "from google.colab import drive\n",
        "drive.mount('/content/drive')"
      ],
      "metadata": {
        "colab": {
          "base_uri": "https://localhost:8080/"
        },
        "id": "wvMI5browLoe",
        "outputId": "d310d9ee-13ea-4745-c0c6-f05527af64ce"
      },
      "execution_count": 1,
      "outputs": [
        {
          "output_type": "stream",
          "name": "stdout",
          "text": [
            "Mounted at /content/drive\n"
          ]
        }
      ]
    },
    {
      "cell_type": "code",
      "execution_count": 2,
      "metadata": {
        "id": "t-LNZAxstwk4",
        "colab": {
          "base_uri": "https://localhost:8080/"
        },
        "outputId": "313ceee7-f6e1-4f47-a571-0b316194c785"
      },
      "outputs": [
        {
          "output_type": "stream",
          "name": "stderr",
          "text": [
            "/usr/local/lib/python3.7/dist-packages/statsmodels/tools/_testing.py:19: FutureWarning: pandas.util.testing is deprecated. Use the functions in the public API at pandas.testing instead.\n",
            "  import pandas.util.testing as tm\n"
          ]
        }
      ],
      "source": [
        "import numpy as np\n",
        "import pandas as pd\n",
        "import matplotlib.pyplot as plt\n",
        "import datetime\n",
        "import os\n",
        "import scipy.stats\n",
        "#import powerlaw\n",
        "from statsmodels.distributions.empirical_distribution import ECDF\n",
        "from scipy.stats import powerlaw\n",
        "%matplotlib inline"
      ]
    },
    {
      "cell_type": "code",
      "execution_count": 3,
      "metadata": {
        "id": "ZL8s56kltwk6"
      },
      "outputs": [],
      "source": [
        "path = \"/content/drive/MyDrive/TOTF.PA/\"\n",
        "l = os.listdir(path)\n",
        "dfs = []\n",
        "for name in l:\n",
        "    if \"trades\" in name:\n",
        "        df = pd.read_csv(path+name)\n",
        "        df[\"ts\"] = pd.to_datetime(df[\"ts\"])\n",
        "        df[\"time_in_s\"] = df[\"ts\"].dt.hour*3600 + df[\"ts\"].dt.minute*60 + df[\"ts\"].dt.second + df[\"ts\"].dt.microsecond/1000000\n",
        "        dfs += [df]"
      ]
    },
    {
      "cell_type": "code",
      "source": [
        "# the trading data in 2017-01-02\n",
        "dfs[0]"
      ],
      "metadata": {
        "colab": {
          "base_uri": "https://localhost:8080/",
          "height": 423
        },
        "id": "L7OilaKhA84p",
        "outputId": "36ce37f1-e15b-47e9-c0bc-307f7de30bd9"
      },
      "execution_count": null,
      "outputs": [
        {
          "output_type": "execute_result",
          "data": {
            "text/plain": [
              "      Unnamed: 0                      ts   price  volume  time_in_s\n",
              "0              0 2017-01-02 09:00:15.576  48.470     100  32415.576\n",
              "1              1 2017-01-02 09:00:15.576  48.465     113  32415.576\n",
              "2              2 2017-01-02 09:00:15.576  48.465     100  32415.576\n",
              "3              3 2017-01-02 09:00:29.442  48.500     216  32429.442\n",
              "4              4 2017-01-02 09:00:38.125  48.500     177  32438.125\n",
              "...          ...                     ...     ...     ...        ...\n",
              "6880        6880 2017-01-02 17:29:57.491  48.655     328  62997.491\n",
              "6881        6881 2017-01-02 17:29:57.491  48.655     328  62997.491\n",
              "6882        6882 2017-01-02 17:29:57.491  48.650     722  62997.491\n",
              "6883        6883 2017-01-02 17:29:57.551  48.645     410  62997.551\n",
              "6884        6884 2017-01-02 17:29:57.610  48.640     267  62997.610\n",
              "\n",
              "[6885 rows x 5 columns]"
            ],
            "text/html": [
              "\n",
              "  <div id=\"df-7544b56b-dfac-406f-a7cd-ca2830aed03b\">\n",
              "    <div class=\"colab-df-container\">\n",
              "      <div>\n",
              "<style scoped>\n",
              "    .dataframe tbody tr th:only-of-type {\n",
              "        vertical-align: middle;\n",
              "    }\n",
              "\n",
              "    .dataframe tbody tr th {\n",
              "        vertical-align: top;\n",
              "    }\n",
              "\n",
              "    .dataframe thead th {\n",
              "        text-align: right;\n",
              "    }\n",
              "</style>\n",
              "<table border=\"1\" class=\"dataframe\">\n",
              "  <thead>\n",
              "    <tr style=\"text-align: right;\">\n",
              "      <th></th>\n",
              "      <th>Unnamed: 0</th>\n",
              "      <th>ts</th>\n",
              "      <th>price</th>\n",
              "      <th>volume</th>\n",
              "      <th>time_in_s</th>\n",
              "    </tr>\n",
              "  </thead>\n",
              "  <tbody>\n",
              "    <tr>\n",
              "      <th>0</th>\n",
              "      <td>0</td>\n",
              "      <td>2017-01-02 09:00:15.576</td>\n",
              "      <td>48.470</td>\n",
              "      <td>100</td>\n",
              "      <td>32415.576</td>\n",
              "    </tr>\n",
              "    <tr>\n",
              "      <th>1</th>\n",
              "      <td>1</td>\n",
              "      <td>2017-01-02 09:00:15.576</td>\n",
              "      <td>48.465</td>\n",
              "      <td>113</td>\n",
              "      <td>32415.576</td>\n",
              "    </tr>\n",
              "    <tr>\n",
              "      <th>2</th>\n",
              "      <td>2</td>\n",
              "      <td>2017-01-02 09:00:15.576</td>\n",
              "      <td>48.465</td>\n",
              "      <td>100</td>\n",
              "      <td>32415.576</td>\n",
              "    </tr>\n",
              "    <tr>\n",
              "      <th>3</th>\n",
              "      <td>3</td>\n",
              "      <td>2017-01-02 09:00:29.442</td>\n",
              "      <td>48.500</td>\n",
              "      <td>216</td>\n",
              "      <td>32429.442</td>\n",
              "    </tr>\n",
              "    <tr>\n",
              "      <th>4</th>\n",
              "      <td>4</td>\n",
              "      <td>2017-01-02 09:00:38.125</td>\n",
              "      <td>48.500</td>\n",
              "      <td>177</td>\n",
              "      <td>32438.125</td>\n",
              "    </tr>\n",
              "    <tr>\n",
              "      <th>...</th>\n",
              "      <td>...</td>\n",
              "      <td>...</td>\n",
              "      <td>...</td>\n",
              "      <td>...</td>\n",
              "      <td>...</td>\n",
              "    </tr>\n",
              "    <tr>\n",
              "      <th>6880</th>\n",
              "      <td>6880</td>\n",
              "      <td>2017-01-02 17:29:57.491</td>\n",
              "      <td>48.655</td>\n",
              "      <td>328</td>\n",
              "      <td>62997.491</td>\n",
              "    </tr>\n",
              "    <tr>\n",
              "      <th>6881</th>\n",
              "      <td>6881</td>\n",
              "      <td>2017-01-02 17:29:57.491</td>\n",
              "      <td>48.655</td>\n",
              "      <td>328</td>\n",
              "      <td>62997.491</td>\n",
              "    </tr>\n",
              "    <tr>\n",
              "      <th>6882</th>\n",
              "      <td>6882</td>\n",
              "      <td>2017-01-02 17:29:57.491</td>\n",
              "      <td>48.650</td>\n",
              "      <td>722</td>\n",
              "      <td>62997.491</td>\n",
              "    </tr>\n",
              "    <tr>\n",
              "      <th>6883</th>\n",
              "      <td>6883</td>\n",
              "      <td>2017-01-02 17:29:57.551</td>\n",
              "      <td>48.645</td>\n",
              "      <td>410</td>\n",
              "      <td>62997.551</td>\n",
              "    </tr>\n",
              "    <tr>\n",
              "      <th>6884</th>\n",
              "      <td>6884</td>\n",
              "      <td>2017-01-02 17:29:57.610</td>\n",
              "      <td>48.640</td>\n",
              "      <td>267</td>\n",
              "      <td>62997.610</td>\n",
              "    </tr>\n",
              "  </tbody>\n",
              "</table>\n",
              "<p>6885 rows × 5 columns</p>\n",
              "</div>\n",
              "      <button class=\"colab-df-convert\" onclick=\"convertToInteractive('df-7544b56b-dfac-406f-a7cd-ca2830aed03b')\"\n",
              "              title=\"Convert this dataframe to an interactive table.\"\n",
              "              style=\"display:none;\">\n",
              "        \n",
              "  <svg xmlns=\"http://www.w3.org/2000/svg\" height=\"24px\"viewBox=\"0 0 24 24\"\n",
              "       width=\"24px\">\n",
              "    <path d=\"M0 0h24v24H0V0z\" fill=\"none\"/>\n",
              "    <path d=\"M18.56 5.44l.94 2.06.94-2.06 2.06-.94-2.06-.94-.94-2.06-.94 2.06-2.06.94zm-11 1L8.5 8.5l.94-2.06 2.06-.94-2.06-.94L8.5 2.5l-.94 2.06-2.06.94zm10 10l.94 2.06.94-2.06 2.06-.94-2.06-.94-.94-2.06-.94 2.06-2.06.94z\"/><path d=\"M17.41 7.96l-1.37-1.37c-.4-.4-.92-.59-1.43-.59-.52 0-1.04.2-1.43.59L10.3 9.45l-7.72 7.72c-.78.78-.78 2.05 0 2.83L4 21.41c.39.39.9.59 1.41.59.51 0 1.02-.2 1.41-.59l7.78-7.78 2.81-2.81c.8-.78.8-2.07 0-2.86zM5.41 20L4 18.59l7.72-7.72 1.47 1.35L5.41 20z\"/>\n",
              "  </svg>\n",
              "      </button>\n",
              "      \n",
              "  <style>\n",
              "    .colab-df-container {\n",
              "      display:flex;\n",
              "      flex-wrap:wrap;\n",
              "      gap: 12px;\n",
              "    }\n",
              "\n",
              "    .colab-df-convert {\n",
              "      background-color: #E8F0FE;\n",
              "      border: none;\n",
              "      border-radius: 50%;\n",
              "      cursor: pointer;\n",
              "      display: none;\n",
              "      fill: #1967D2;\n",
              "      height: 32px;\n",
              "      padding: 0 0 0 0;\n",
              "      width: 32px;\n",
              "    }\n",
              "\n",
              "    .colab-df-convert:hover {\n",
              "      background-color: #E2EBFA;\n",
              "      box-shadow: 0px 1px 2px rgba(60, 64, 67, 0.3), 0px 1px 3px 1px rgba(60, 64, 67, 0.15);\n",
              "      fill: #174EA6;\n",
              "    }\n",
              "\n",
              "    [theme=dark] .colab-df-convert {\n",
              "      background-color: #3B4455;\n",
              "      fill: #D2E3FC;\n",
              "    }\n",
              "\n",
              "    [theme=dark] .colab-df-convert:hover {\n",
              "      background-color: #434B5C;\n",
              "      box-shadow: 0px 1px 3px 1px rgba(0, 0, 0, 0.15);\n",
              "      filter: drop-shadow(0px 1px 2px rgba(0, 0, 0, 0.3));\n",
              "      fill: #FFFFFF;\n",
              "    }\n",
              "  </style>\n",
              "\n",
              "      <script>\n",
              "        const buttonEl =\n",
              "          document.querySelector('#df-7544b56b-dfac-406f-a7cd-ca2830aed03b button.colab-df-convert');\n",
              "        buttonEl.style.display =\n",
              "          google.colab.kernel.accessAllowed ? 'block' : 'none';\n",
              "\n",
              "        async function convertToInteractive(key) {\n",
              "          const element = document.querySelector('#df-7544b56b-dfac-406f-a7cd-ca2830aed03b');\n",
              "          const dataTable =\n",
              "            await google.colab.kernel.invokeFunction('convertToInteractive',\n",
              "                                                     [key], {});\n",
              "          if (!dataTable) return;\n",
              "\n",
              "          const docLinkHtml = 'Like what you see? Visit the ' +\n",
              "            '<a target=\"_blank\" href=https://colab.research.google.com/notebooks/data_table.ipynb>data table notebook</a>'\n",
              "            + ' to learn more about interactive tables.';\n",
              "          element.innerHTML = '';\n",
              "          dataTable['output_type'] = 'display_data';\n",
              "          await google.colab.output.renderOutput(dataTable, element);\n",
              "          const docLink = document.createElement('div');\n",
              "          docLink.innerHTML = docLinkHtml;\n",
              "          element.appendChild(docLink);\n",
              "        }\n",
              "      </script>\n",
              "    </div>\n",
              "  </div>\n",
              "  "
            ]
          },
          "metadata": {},
          "execution_count": 5
        }
      ]
    },
    {
      "cell_type": "markdown",
      "metadata": {
        "id": "lzySOiEntwk9"
      },
      "source": [
        "## 1. Overview of the data\n",
        "1.1 Plot the number of trades per day, as well as its average on the full sample.\n",
        "\n",
        "1.2 Plot the evolution of the transaction price on the sample.\n",
        "\n",
        "1.3 Compute the ticksize in your data. Is this value in line with the Euronext trading rules ?"
      ]
    },
    {
      "cell_type": "markdown",
      "source": [
        "###1.1 Plot the number of trades per day, as well as its average on the full sample.\n",
        "\n"
      ],
      "metadata": {
        "id": "fWp2cJ1eyB7Q"
      }
    },
    {
      "cell_type": "code",
      "execution_count": 4,
      "metadata": {
        "scrolled": false,
        "colab": {
          "base_uri": "https://localhost:8080/",
          "height": 331
        },
        "id": "Yu9FPK_rtwk-",
        "outputId": "ed7e1314-6ebd-4b3c-bd73-08d38678120d"
      },
      "outputs": [
        {
          "output_type": "stream",
          "name": "stdout",
          "text": [
            "average number of trades is 16091.272727272728\n"
          ]
        },
        {
          "output_type": "execute_result",
          "data": {
            "text/plain": [
              "Text(0.5, 1.0, 'The daily trading volume')"
            ]
          },
          "metadata": {},
          "execution_count": 4
        },
        {
          "output_type": "display_data",
          "data": {
            "text/plain": [
              "<Figure size 432x288 with 1 Axes>"
            ],
            "image/png": "[encoded data removed]"
          },
          "metadata": {
            "needs_background": "light"
          }
        }
      ],
      "source": [
        "n_trades = []\n",
        "for df in dfs:\n",
        "    n_trades += [df.shape[0]]\n",
        "\n",
        "print(\"average number of trades is {}\".format(np.mean(n_trades)))\n",
        "fig,ax = plt.subplots()\n",
        "ax.plot(n_trades)\n",
        "ax.set_xlabel(\"day\")\n",
        "ax.set_ylabel(\"volume\")\n",
        "ax.set_title('The daily trading volume')\n"
      ]
    },
    {
      "cell_type": "markdown",
      "source": [
        "###1.2 Evolution price\n",
        "The evolution price of the trading of 2017-01-02. "
      ],
      "metadata": {
        "id": "6z9r0bsVuKYl"
      }
    },
    {
      "cell_type": "code",
      "execution_count": 13,
      "metadata": {
        "colab": {
          "base_uri": "https://localhost:8080/",
          "height": 295
        },
        "id": "CwlRJhwttwk_",
        "outputId": "a5d5f6b6-862f-4f5e-d9cd-2fc577b9dc6d"
      },
      "outputs": [
        {
          "output_type": "display_data",
          "data": {
            "text/plain": [
              "<Figure size 432x288 with 1 Axes>"
            ],
            "image/png": "[encoded data removed]"
          },
          "metadata": {
            "needs_background": "light"
          }
        }
      ],
      "source": [
        "df = dfs[0]\n",
        "plt.title('the evolution price of 2017-01-02')\n",
        "plt.ylabel('price')\n",
        "plt.xlabel('time (in hour)')\n",
        "plt.plot(df[\"time_in_s\"]/3600,df[\"price\"])\n",
        "plt.show()"
      ]
    },
    {
      "cell_type": "markdown",
      "source": [
        "### 1.3 Ticket Size"
      ],
      "metadata": {
        "id": "atSWE2NuuPyW"
      }
    },
    {
      "cell_type": "code",
      "execution_count": 24,
      "metadata": {
        "id": "DPGLV3fjtwlA",
        "colab": {
          "base_uri": "https://localhost:8080/"
        },
        "outputId": "88f026a3-af0f-438e-b17d-a22ad599063d"
      },
      "outputs": [
        {
          "output_type": "stream",
          "name": "stdout",
          "text": [
            "The maximum price is 49.5\n",
            "The minimum price is 46.385\n"
          ]
        }
      ],
      "source": [
        "m = np.min(dfs[0][\"price\"])\n",
        "M = np.max(dfs[0][\"price\"])\n",
        "for df in dfs:\n",
        "    m = min(m,np.min(df[\"price\"]))\n",
        "    M = max(M,np.max(df[\"price\"]))\n",
        "print('The maximum price is {}'.format(M))\n",
        "print('The minimum price is {}'.format(m))"
      ]
    },
    {
      "cell_type": "markdown",
      "metadata": {
        "id": "DgLPOi3StwlB"
      },
      "source": [
        "Because the prices are between 10 and 50, we expect a ticksize of 0.05"
      ]
    },
    {
      "cell_type": "code",
      "execution_count": 20,
      "metadata": {
        "id": "s16HRcgNtwlB",
        "colab": {
          "base_uri": "https://localhost:8080/"
        },
        "outputId": "0826a7c0-06e2-4bdc-e3f9-63393d15a0c6"
      },
      "outputs": [
        {
          "output_type": "stream",
          "name": "stdout",
          "text": [
            "The minimum ticket size is 0.0049999999999954525\n"
          ]
        }
      ],
      "source": [
        "tick = 1\n",
        "for df in dfs:    \n",
        "    p1 = df[\"price\"][0:-1].to_numpy()\n",
        "    p2 = df[\"price\"][1:].to_numpy()\n",
        "    d = np.abs(p1-p2)\n",
        "    tick = min(tick,np.min(d[d>0]))\n",
        "\n",
        "print('The minimum ticket size is {}'.format(tick))"
      ]
    },
    {
      "cell_type": "markdown",
      "metadata": {
        "id": "7eZjIdZdtwlC"
      },
      "source": [
        "The tick is 0.05 (to a rounding error)."
      ]
    },
    {
      "cell_type": "markdown",
      "metadata": {
        "id": "fkv0CX7_twlD"
      },
      "source": [
        "## 2. Trade durations\n",
        "\n",
        "2.1 Plot an histogram of the empirical density of the trade durations, in both linear and log-log scale. \n",
        "\n",
        "2.2 Add an exponential fit to the histograms (e.g., using scipy.stats.expon(...)).\n",
        "\n",
        "2.3 Rejects the hypothesis that a power law is a good fit of the duration distribution, but finds that Weibull distributions can be good candidates. Are your observations in line with this paper ?"
      ]
    },
    {
      "cell_type": "code",
      "execution_count": 32,
      "metadata": {
        "id": "lrnz9h_6twlD"
      },
      "outputs": [],
      "source": [
        "ds = []\n",
        "for df in dfs:   \n",
        "    z = df[\"time_in_s\"].to_numpy()\n",
        "    z1 = z[0:-1] \n",
        "    z2 = z[1:]\n",
        "    durations = z2-z1\n",
        "    ds += [durations]\n",
        "    \n",
        "durations = np.concatenate(ds) "
      ]
    },
    {
      "cell_type": "code",
      "source": [
        "ds = []\n",
        "for df in dfs:   \n",
        "    z = df[\"time_in_s\"].to_numpy()\n",
        "    z1 = z[0:-1]\n",
        "    z2 = z[1:]\n",
        "    durations = z2-z1\n",
        "    ds += [durations] \n",
        "\n",
        "durations = durations[durations>0] "
      ],
      "metadata": {
        "id": "zeyCEon-s3SX"
      },
      "execution_count": 37,
      "outputs": []
    },
    {
      "cell_type": "code",
      "execution_count": 43,
      "metadata": {
        "colab": {
          "base_uri": "https://localhost:8080/",
          "height": 295
        },
        "id": "aCH9_rW0twlE",
        "outputId": "4615767a-9cdc-4c98-f82f-b926a1d10f0e"
      },
      "outputs": [
        {
          "output_type": "display_data",
          "data": {
            "text/plain": [
              "<Figure size 432x288 with 1 Axes>"
            ],
            "image/png": "[encoded data removed]"
          },
          "metadata": {
            "needs_background": "light"
          }
        }
      ],
      "source": [
        "fig,ax = plt.subplots()\n",
        "ax.set_xlabel(\"duration\")\n",
        "ax.set_ylabel(\"distribution\")\n",
        "ax.set_title('Histogram of the duration')\n",
        "ax.set_xlim((0,30))\n",
        "ax.set_ylim((0,0.2))\n",
        "ax.hist(durations,bins = 100,density = True);"
      ]
    },
    {
      "cell_type": "code",
      "execution_count": 40,
      "metadata": {
        "id": "rfthDMjZtwlE",
        "colab": {
          "base_uri": "https://localhost:8080/"
        },
        "outputId": "59c52486-8fb3-4684-b822-8be2d767d3f0"
      },
      "outputs": [
        {
          "output_type": "stream",
          "name": "stdout",
          "text": [
            "0.000999999996565748 4.352108708028478\n"
          ]
        }
      ],
      "source": [
        "l,s = scipy.stats.expon.fit(durations)\n",
        "print(l,s)"
      ]
    },
    {
      "cell_type": "code",
      "execution_count": 42,
      "metadata": {
        "colab": {
          "base_uri": "https://localhost:8080/",
          "height": 295
        },
        "id": "B41J4-H-twlF",
        "outputId": "b14c1379-e63b-45fa-d861-432ab0e299dd"
      },
      "outputs": [
        {
          "output_type": "display_data",
          "data": {
            "text/plain": [
              "<Figure size 432x288 with 1 Axes>"
            ],
            "image/png": "[encoded data removed]"
          },
          "metadata": {
            "needs_background": "light"
          }
        }
      ],
      "source": [
        "fig,ax = plt.subplots()\n",
        "ax.hist(durations,bins = 100,density = True);\n",
        "x = np.concatenate([np.arange(0.01,1,0.01),np.arange(1,250,1)])\n",
        "y = scipy.stats.expon.pdf(x,loc = l, scale = s)\n",
        "ax.plot(x,y)\n",
        "ax.set_xlabel(\"duration\")\n",
        "ax.set_ylabel(\"distribution\")\n",
        "ax.set_title('The exponential fit of the histogram of the Duration')\n",
        "ax.set_xlim((0,30))\n",
        "ax.set_ylim((0,0.2))\n",
        "ax.legend([\"fitted distribution\",\"empirical distribution\"]);"
      ]
    },
    {
      "cell_type": "code",
      "execution_count": 44,
      "metadata": {
        "scrolled": true,
        "colab": {
          "base_uri": "https://localhost:8080/",
          "height": 317
        },
        "id": "ZjBFb40XtwlF",
        "outputId": "ebeaa31c-482c-4757-bb6c-2c748812967f"
      },
      "outputs": [
        {
          "output_type": "execute_result",
          "data": {
            "text/plain": [
              "<matplotlib.legend.Legend at 0x7fd83767e810>"
            ]
          },
          "metadata": {},
          "execution_count": 44
        },
        {
          "output_type": "display_data",
          "data": {
            "text/plain": [
              "<Figure size 432x288 with 1 Axes>"
            ],
            "image/png": "[encoded data removed]"
          },
          "metadata": {
            "needs_background": "light"
          }
        }
      ],
      "source": [
        "fig,ax = plt.subplots()\n",
        "ax.hist(durations,bins = 100,density = True);\n",
        "ax.plot(x,y)\n",
        "ax.set_xlabel(\"duration\")\n",
        "ax.set_ylabel(\"distribution\")\n",
        "ax.set_title('The exponential fit for histogram of duration in log scale')\n",
        "ax.set_ylim(10**-7,1)\n",
        "plt.xscale(\"log\")\n",
        "plt.yscale(\"log\")\n",
        "ax.legend([\"fitted distribution\",\"empirical distribution\"])"
      ]
    },
    {
      "cell_type": "markdown",
      "metadata": {
        "id": "bd5IvqQutwlG"
      },
      "source": [
        "The empirical distribution as an heavier tail than the empirical one"
      ]
    },
    {
      "cell_type": "code",
      "source": [
        "!pip install powerlaw"
      ],
      "metadata": {
        "id": "bX_DS9lRtc5q"
      },
      "execution_count": null,
      "outputs": []
    },
    {
      "cell_type": "code",
      "execution_count": 57,
      "metadata": {
        "colab": {
          "base_uri": "https://localhost:8080/",
          "height": 370
        },
        "id": "vxgkG-6ktwlG",
        "outputId": "6e2cc314-124d-407e-837c-6fc479dbcfa0"
      },
      "outputs": [
        {
          "output_type": "stream",
          "name": "stdout",
          "text": [
            "Calculating best minimal value for power law fit\n",
            "The xmin of the powerlaw result is 13.57100000000355\n",
            "The alpha of the powerlaw result is 3.2324692413027476\n"
          ]
        },
        {
          "output_type": "execute_result",
          "data": {
            "text/plain": [
              "<matplotlib.legend.Legend at 0x7fd837d77d50>"
            ]
          },
          "metadata": {},
          "execution_count": 57
        },
        {
          "output_type": "display_data",
          "data": {
            "text/plain": [
              "<Figure size 432x288 with 1 Axes>"
            ],
            "image/png": "[encoded data removed]"
          },
          "metadata": {
            "needs_background": "light"
          }
        }
      ],
      "source": [
        "#from scipy.stats import powerlaw\n",
        "import powerlaw\n",
        "result = powerlaw.Fit(durations)\n",
        "\n",
        "print('The xmin of the powerlaw result is {}'.format(result.power_law.xmin))\n",
        "print('The alpha of the powerlaw result is {}'.format(result.power_law.alpha))\n",
        "\n",
        "c,l,s = scipy.stats.weibull_min.fit(durations[durations > result.power_law.alpha])\n",
        "y1 = scipy.stats.weibull_min.pdf(x,c=c,loc = l, scale = s)\n",
        "\n",
        "fig,ax = plt.subplots()\n",
        "ax.set_title('The multiple fit for the histogram of Duration')\n",
        "ax.hist(durations,bins = 100,density = True)\n",
        "ax.set_ylim(10**-7,1)\n",
        "ax.set_xlim(10,250)\n",
        "ax.plot(x,y)\n",
        "ax.plot(x,y1)\n",
        "result.plot_pdf()\n",
        "plt.yscale(\"log\")\n",
        "plt.xscale(\"log\")\n",
        "ax.set_xlabel(\"duration\")\n",
        "ax.set_ylabel(\"distribution\")\n",
        "ax.legend([\"exponential fit\",\"weibull fit\",\"power law fit\",\"empirical\"])"
      ]
    },
    {
      "cell_type": "markdown",
      "metadata": {
        "id": "mEbI4ZYvtwlI"
      },
      "source": [
        "We can see that a weibull distribution fits the tail of the empirical distribution better."
      ]
    },
    {
      "cell_type": "markdown",
      "metadata": {
        "id": "7SPFk1-TtwlI"
      },
      "source": [
        "## 3. Trade volumes\n",
        "3.1 Plot a histogram of the empirical density of the trade sizes, in both linear and log-log scale.\n",
        "\n",
        "3.2 Add an exponential fit to the histograms.\n",
        "\n",
        "3.3 Add an power-law fit of the tail of the distribution to the log-log histogram. You should use the powerlaw package. For each stock, plot the empirical distribution of sizes and a fitted exponential distribution in semi-log scale.\n",
        "\n",
        "3.4 Lists several studies finding tail exponents around 2.5 for transactions volumes. Are your observations in line with these previous contributions ?"
      ]
    },
    {
      "cell_type": "code",
      "execution_count": 58,
      "metadata": {
        "id": "f-AQOjYLtwlI"
      },
      "outputs": [],
      "source": [
        "vs = []\n",
        "for df in dfs:   \n",
        "    z = df[\"volume\"].to_numpy()\n",
        "    vs += [z]\n",
        "    \n",
        "volumes = np.concatenate(vs)"
      ]
    },
    {
      "cell_type": "code",
      "execution_count": 59,
      "metadata": {
        "id": "EKKFXm5stwlJ"
      },
      "outputs": [],
      "source": [
        "l,s = scipy.stats.expon.fit(volumes)\n",
        "x = np.arange(np.min(volumes),np.max(volumes),10)\n",
        "y = scipy.stats.expon.pdf(x,loc = l, scale = s)"
      ]
    },
    {
      "cell_type": "code",
      "execution_count": 61,
      "metadata": {
        "colab": {
          "base_uri": "https://localhost:8080/",
          "height": 295
        },
        "id": "8FBeiJsLtwlJ",
        "outputId": "ab2cca22-968b-41f5-ef47-4934b9da81fc"
      },
      "outputs": [
        {
          "output_type": "display_data",
          "data": {
            "text/plain": [
              "<Figure size 432x288 with 1 Axes>"
            ],
            "image/png": "[encoded data removed]"
          },
          "metadata": {
            "needs_background": "light"
          }
        }
      ],
      "source": [
        "fig,ax = plt.subplots()\n",
        "ax.set_title('The fit for the trade volume')\n",
        "ax.hist(volumes,bins = 100,density = True);\n",
        "ax.plot(x,y)\n",
        "ax.set_xlabel(\"volume\")\n",
        "ax.set_ylabel(\"distribution\")\n",
        "ax.set_xlim((0,1000))\n",
        "ax.set_ylim((0,0.005))\n",
        "ax.legend([\"fitted distribution\",\"empirical distribution\"]);"
      ]
    },
    {
      "cell_type": "code",
      "execution_count": 64,
      "metadata": {
        "colab": {
          "base_uri": "https://localhost:8080/",
          "height": 299
        },
        "id": "df8Dxts7twlJ",
        "outputId": "e4ff9933-7879-43a5-c5b9-d7b66487e8df"
      },
      "outputs": [
        {
          "output_type": "display_data",
          "data": {
            "text/plain": [
              "<Figure size 432x288 with 1 Axes>"
            ],
            "image/png": "[encoded data removed]"
          },
          "metadata": {
            "needs_background": "light"
          }
        }
      ],
      "source": [
        "fig,ax = plt.subplots()\n",
        "ax.set_title('The fit for the trade volume log scale')\n",
        "ax.set_ylim(10**-9,1)\n",
        "ax.hist(volumes,bins = 100,density = True);\n",
        "ax.plot(x,y)\n",
        "ax.set_xlabel(\"volume\")\n",
        "ax.set_ylabel(\"distribution\")\n",
        "ax.legend([\"fitted distribution\",\"empirical distribution\"])\n",
        "plt.yscale(\"log\")\n",
        "plt.xscale(\"log\")"
      ]
    },
    {
      "cell_type": "code",
      "execution_count": 65,
      "metadata": {
        "colab": {
          "base_uri": "https://localhost:8080/"
        },
        "id": "L9TcF01ytwlJ",
        "outputId": "3955ac8b-17cc-47ca-b452-1cf94bd2cef4"
      },
      "outputs": [
        {
          "output_type": "stream",
          "name": "stdout",
          "text": [
            "Calculating best minimal value for power law fit\n"
          ]
        }
      ],
      "source": [
        "result = powerlaw.Fit(volumes)"
      ]
    },
    {
      "cell_type": "code",
      "execution_count": 67,
      "metadata": {
        "colab": {
          "base_uri": "https://localhost:8080/",
          "height": 299
        },
        "id": "wtNez7VqtwlK",
        "outputId": "665daa68-746a-48da-9351-66306f897909"
      },
      "outputs": [
        {
          "output_type": "display_data",
          "data": {
            "text/plain": [
              "<Figure size 432x288 with 1 Axes>"
            ],
            "image/png": "[encoded data removed]"
          },
          "metadata": {
            "needs_background": "light"
          }
        }
      ],
      "source": [
        "fig,ax = plt.subplots()\n",
        "ax.set_title('Powerlaw fit of the trade volume')\n",
        "ax.set_ylim(10**-9,1)\n",
        "ax.set_xlim(500,20000)\n",
        "ax.hist(volumes,bins = 100,density = True)\n",
        "ax.plot(x,y)\n",
        "result.plot_pdf()\n",
        "plt.yscale(\"log\")\n",
        "plt.xscale(\"log\")\n",
        "ax.set_xlabel(\"volume\")\n",
        "ax.set_ylabel(\"distribution\")\n",
        "ax.legend([\"fitted exponential distribution\",\"fitted power law\",\"empirical distribution\"]);"
      ]
    },
    {
      "cell_type": "code",
      "execution_count": 68,
      "metadata": {
        "scrolled": true,
        "colab": {
          "base_uri": "https://localhost:8080/"
        },
        "id": "BAR9I02HtwlK",
        "outputId": "6910618e-03b9-4789-fe22-9acf4a6894da"
      },
      "outputs": [
        {
          "output_type": "execute_result",
          "data": {
            "text/plain": [
              "2.856233026766682"
            ]
          },
          "metadata": {},
          "execution_count": 68
        }
      ],
      "source": [
        "result.power_law.alpha"
      ]
    },
    {
      "cell_type": "markdown",
      "metadata": {
        "id": "eS32ZSNwtwlK"
      },
      "source": [
        "The exponential fit does not have tail heavy enough. The exponential fit is better, and we find a value of $\\alpha$ close to 2.5 as expected."
      ]
    },
    {
      "cell_type": "markdown",
      "metadata": {
        "id": "rnj_4GY_twlK"
      },
      "source": [
        "## 4. Intraday trading activity\n",
        "4.1 For each day of the sample, compute the number of trades per bins of 1 minute and plot the median daily profile. You should use the resample function of pandas.\n",
        "\n",
        "4.2 Comment the observed profile."
      ]
    },
    {
      "cell_type": "code",
      "execution_count": 69,
      "metadata": {
        "id": "pfXWKETYtwlL"
      },
      "outputs": [],
      "source": [
        "volumes = []\n",
        "\n",
        "for df in dfs:\n",
        "    mvols = df.resample(\"1T\",on = \"ts\").sum()[\"volume\"].to_numpy() #dataframe每个分钟采样\n",
        "    volumes += [mvols]"
      ]
    },
    {
      "cell_type": "code",
      "source": [
        "df.resample(\"2T\",on = \"ts\").sum()"
      ],
      "metadata": {
        "colab": {
          "base_uri": "https://localhost:8080/",
          "height": 455
        },
        "id": "sCEdLiPO7U1T",
        "outputId": "baa30f24-e2d9-47bf-f462-1a00d9097f02"
      },
      "execution_count": 70,
      "outputs": [
        {
          "output_type": "execute_result",
          "data": {
            "text/plain": [
              "                     Unnamed: 0      price   volume     time_in_s\n",
              "ts                                                               \n",
              "2017-01-31 09:00:00        1596   2662.010  13231.0  1.849433e+06\n",
              "2017-01-31 09:02:00        1890   1261.310   3206.0  8.796380e+05\n",
              "2017-01-31 09:04:00        3895   1776.725   5307.0  1.243148e+06\n",
              "2017-01-31 09:06:00       16272   4485.400  14204.0  3.149275e+06\n",
              "2017-01-31 09:08:00        9758   1916.470   7786.0  1.350769e+06\n",
              "...                         ...        ...      ...           ...\n",
              "2017-01-31 17:20:00     2536100   8219.405  35548.0  1.092998e+07\n",
              "2017-01-31 17:22:00     1889076   6053.860  21976.0  8.073886e+06\n",
              "2017-01-31 17:24:00     2009604   6383.440  24756.0  8.527933e+06\n",
              "2017-01-31 17:26:00     2913690   9143.245  49540.0  1.225251e+07\n",
              "2017-01-31 17:28:00     3378673  10457.030  56828.0  1.403448e+07\n",
              "\n",
              "[255 rows x 4 columns]"
            ],
            "text/html": [
              "\n",
              "  <div id=\"df-efd2d84c-1f4f-4a9e-92cf-46359b3f0f57\">\n",
              "    <div class=\"colab-df-container\">\n",
              "      <div>\n",
              "<style scoped>\n",
              "    .dataframe tbody tr th:only-of-type {\n",
              "        vertical-align: middle;\n",
              "    }\n",
              "\n",
              "    .dataframe tbody tr th {\n",
              "        vertical-align: top;\n",
              "    }\n",
              "\n",
              "    .dataframe thead th {\n",
              "        text-align: right;\n",
              "    }\n",
              "</style>\n",
              "<table border=\"1\" class=\"dataframe\">\n",
              "  <thead>\n",
              "    <tr style=\"text-align: right;\">\n",
              "      <th></th>\n",
              "      <th>Unnamed: 0</th>\n",
              "      <th>price</th>\n",
              "      <th>volume</th>\n",
              "      <th>time_in_s</th>\n",
              "    </tr>\n",
              "    <tr>\n",
              "      <th>ts</th>\n",
              "      <th></th>\n",
              "      <th></th>\n",
              "      <th></th>\n",
              "      <th></th>\n",
              "    </tr>\n",
              "  </thead>\n",
              "  <tbody>\n",
              "    <tr>\n",
              "      <th>2017-01-31 09:00:00</th>\n",
              "      <td>1596</td>\n",
              "      <td>2662.010</td>\n",
              "      <td>13231.0</td>\n",
              "      <td>1.849433e+06</td>\n",
              "    </tr>\n",
              "    <tr>\n",
              "      <th>2017-01-31 09:02:00</th>\n",
              "      <td>1890</td>\n",
              "      <td>1261.310</td>\n",
              "      <td>3206.0</td>\n",
              "      <td>8.796380e+05</td>\n",
              "    </tr>\n",
              "    <tr>\n",
              "      <th>2017-01-31 09:04:00</th>\n",
              "      <td>3895</td>\n",
              "      <td>1776.725</td>\n",
              "      <td>5307.0</td>\n",
              "      <td>1.243148e+06</td>\n",
              "    </tr>\n",
              "    <tr>\n",
              "      <th>2017-01-31 09:06:00</th>\n",
              "      <td>16272</td>\n",
              "      <td>4485.400</td>\n",
              "      <td>14204.0</td>\n",
              "      <td>3.149275e+06</td>\n",
              "    </tr>\n",
              "    <tr>\n",
              "      <th>2017-01-31 09:08:00</th>\n",
              "      <td>9758</td>\n",
              "      <td>1916.470</td>\n",
              "      <td>7786.0</td>\n",
              "      <td>1.350769e+06</td>\n",
              "    </tr>\n",
              "    <tr>\n",
              "      <th>...</th>\n",
              "      <td>...</td>\n",
              "      <td>...</td>\n",
              "      <td>...</td>\n",
              "      <td>...</td>\n",
              "    </tr>\n",
              "    <tr>\n",
              "      <th>2017-01-31 17:20:00</th>\n",
              "      <td>2536100</td>\n",
              "      <td>8219.405</td>\n",
              "      <td>35548.0</td>\n",
              "      <td>1.092998e+07</td>\n",
              "    </tr>\n",
              "    <tr>\n",
              "      <th>2017-01-31 17:22:00</th>\n",
              "      <td>1889076</td>\n",
              "      <td>6053.860</td>\n",
              "      <td>21976.0</td>\n",
              "      <td>8.073886e+06</td>\n",
              "    </tr>\n",
              "    <tr>\n",
              "      <th>2017-01-31 17:24:00</th>\n",
              "      <td>2009604</td>\n",
              "      <td>6383.440</td>\n",
              "      <td>24756.0</td>\n",
              "      <td>8.527933e+06</td>\n",
              "    </tr>\n",
              "    <tr>\n",
              "      <th>2017-01-31 17:26:00</th>\n",
              "      <td>2913690</td>\n",
              "      <td>9143.245</td>\n",
              "      <td>49540.0</td>\n",
              "      <td>1.225251e+07</td>\n",
              "    </tr>\n",
              "    <tr>\n",
              "      <th>2017-01-31 17:28:00</th>\n",
              "      <td>3378673</td>\n",
              "      <td>10457.030</td>\n",
              "      <td>56828.0</td>\n",
              "      <td>1.403448e+07</td>\n",
              "    </tr>\n",
              "  </tbody>\n",
              "</table>\n",
              "<p>255 rows × 4 columns</p>\n",
              "</div>\n",
              "      <button class=\"colab-df-convert\" onclick=\"convertToInteractive('df-efd2d84c-1f4f-4a9e-92cf-46359b3f0f57')\"\n",
              "              title=\"Convert this dataframe to an interactive table.\"\n",
              "              style=\"display:none;\">\n",
              "        \n",
              "  <svg xmlns=\"http://www.w3.org/2000/svg\" height=\"24px\"viewBox=\"0 0 24 24\"\n",
              "       width=\"24px\">\n",
              "    <path d=\"M0 0h24v24H0V0z\" fill=\"none\"/>\n",
              "    <path d=\"M18.56 5.44l.94 2.06.94-2.06 2.06-.94-2.06-.94-.94-2.06-.94 2.06-2.06.94zm-11 1L8.5 8.5l.94-2.06 2.06-.94-2.06-.94L8.5 2.5l-.94 2.06-2.06.94zm10 10l.94 2.06.94-2.06 2.06-.94-2.06-.94-.94-2.06-.94 2.06-2.06.94z\"/><path d=\"M17.41 7.96l-1.37-1.37c-.4-.4-.92-.59-1.43-.59-.52 0-1.04.2-1.43.59L10.3 9.45l-7.72 7.72c-.78.78-.78 2.05 0 2.83L4 21.41c.39.39.9.59 1.41.59.51 0 1.02-.2 1.41-.59l7.78-7.78 2.81-2.81c.8-.78.8-2.07 0-2.86zM5.41 20L4 18.59l7.72-7.72 1.47 1.35L5.41 20z\"/>\n",
              "  </svg>\n",
              "      </button>\n",
              "      \n",
              "  <style>\n",
              "    .colab-df-container {\n",
              "      display:flex;\n",
              "      flex-wrap:wrap;\n",
              "      gap: 12px;\n",
              "    }\n",
              "\n",
              "    .colab-df-convert {\n",
              "      background-color: #E8F0FE;\n",
              "      border: none;\n",
              "      border-radius: 50%;\n",
              "      cursor: pointer;\n",
              "      display: none;\n",
              "      fill: #1967D2;\n",
              "      height: 32px;\n",
              "      padding: 0 0 0 0;\n",
              "      width: 32px;\n",
              "    }\n",
              "\n",
              "    .colab-df-convert:hover {\n",
              "      background-color: #E2EBFA;\n",
              "      box-shadow: 0px 1px 2px rgba(60, 64, 67, 0.3), 0px 1px 3px 1px rgba(60, 64, 67, 0.15);\n",
              "      fill: #174EA6;\n",
              "    }\n",
              "\n",
              "    [theme=dark] .colab-df-convert {\n",
              "      background-color: #3B4455;\n",
              "      fill: #D2E3FC;\n",
              "    }\n",
              "\n",
              "    [theme=dark] .colab-df-convert:hover {\n",
              "      background-color: #434B5C;\n",
              "      box-shadow: 0px 1px 3px 1px rgba(0, 0, 0, 0.15);\n",
              "      filter: drop-shadow(0px 1px 2px rgba(0, 0, 0, 0.3));\n",
              "      fill: #FFFFFF;\n",
              "    }\n",
              "  </style>\n",
              "\n",
              "      <script>\n",
              "        const buttonEl =\n",
              "          document.querySelector('#df-efd2d84c-1f4f-4a9e-92cf-46359b3f0f57 button.colab-df-convert');\n",
              "        buttonEl.style.display =\n",
              "          google.colab.kernel.accessAllowed ? 'block' : 'none';\n",
              "\n",
              "        async function convertToInteractive(key) {\n",
              "          const element = document.querySelector('#df-efd2d84c-1f4f-4a9e-92cf-46359b3f0f57');\n",
              "          const dataTable =\n",
              "            await google.colab.kernel.invokeFunction('convertToInteractive',\n",
              "                                                     [key], {});\n",
              "          if (!dataTable) return;\n",
              "\n",
              "          const docLinkHtml = 'Like what you see? Visit the ' +\n",
              "            '<a target=\"_blank\" href=https://colab.research.google.com/notebooks/data_table.ipynb>data table notebook</a>'\n",
              "            + ' to learn more about interactive tables.';\n",
              "          element.innerHTML = '';\n",
              "          dataTable['output_type'] = 'display_data';\n",
              "          await google.colab.output.renderOutput(dataTable, element);\n",
              "          const docLink = document.createElement('div');\n",
              "          docLink.innerHTML = docLinkHtml;\n",
              "          element.appendChild(docLink);\n",
              "        }\n",
              "      </script>\n",
              "    </div>\n",
              "  </div>\n",
              "  "
            ]
          },
          "metadata": {},
          "execution_count": 70
        }
      ]
    },
    {
      "cell_type": "code",
      "execution_count": 71,
      "metadata": {
        "id": "RGt2m9gvtwlL"
      },
      "outputs": [],
      "source": [
        "median_vols = np.median(volumes,axis = 0)"
      ]
    },
    {
      "cell_type": "code",
      "execution_count": 72,
      "metadata": {
        "id": "EEy77u6ktwlL",
        "colab": {
          "base_uri": "https://localhost:8080/"
        },
        "outputId": "62964230-5538-4bc0-f4fc-dbe8fe43d2d8"
      },
      "outputs": [
        {
          "output_type": "execute_result",
          "data": {
            "text/plain": [
              "(510,)"
            ]
          },
          "metadata": {},
          "execution_count": 72
        }
      ],
      "source": [
        "median_vols.shape"
      ]
    },
    {
      "cell_type": "code",
      "execution_count": 74,
      "metadata": {
        "scrolled": false,
        "id": "NYCmdnOrtwlL",
        "colab": {
          "base_uri": "https://localhost:8080/",
          "height": 313
        },
        "outputId": "021bf039-d667-4c1c-ff38-c11df09fcf85"
      },
      "outputs": [
        {
          "output_type": "execute_result",
          "data": {
            "text/plain": [
              "Text(0, 0.5, 'median of traded volume')"
            ]
          },
          "metadata": {},
          "execution_count": 74
        },
        {
          "output_type": "display_data",
          "data": {
            "text/plain": [
              "<Figure size 432x288 with 1 Axes>"
            ],
            "image/png": "[encoded data removed]"
          },
          "metadata": {
            "needs_background": "light"
          }
        }
      ],
      "source": [
        "fig,ax = plt.subplots()\n",
        "T = 1/60*np.arange(0,len(median_vols),1) + 9\n",
        "ax.plot(T,median_vols)\n",
        "ax.set_title('The intraday trading volume')\n",
        "ax.set_xlabel(\"time (in hours)\")\n",
        "ax.set_ylabel(\"median of traded volume\")"
      ]
    },
    {
      "cell_type": "markdown",
      "metadata": {
        "id": "FefXvpaqtwlL"
      },
      "source": [
        "As expected, the trading activity is more important in the morning and in the evening, with a spike around 4PM for the opening of the american markets."
      ]
    },
    {
      "cell_type": "markdown",
      "metadata": {
        "id": "0QGEDEQXtwlL"
      },
      "source": [
        "## 5. High-frequency log-returns and trading activity\n",
        "5.1 Plot the complementary cumulative empirical distribution function of the absolute log-returns sampled every 1, 5 and 15 minutes. Add a Gaussian reference to the plot. Comment.\n",
        "\n",
        "5.2 Plot the variance of the log-returns every N trades as a function of N. Comment.\n",
        "\n",
        "5.3 Plot the variance of the log-returns every T minutes and the mean number of trades every T minutes, as a function of T (use one graph with two y-axes). Comment.\n",
        "\n",
        "5.4 Suggests that log-returns in event time are Gaussian. Is this observation valid on your sample ?"
      ]
    },
    {
      "cell_type": "code",
      "execution_count": 75,
      "metadata": {
        "id": "1PV8mBJvtwlM"
      },
      "outputs": [],
      "source": [
        "def logs(T):\n",
        "    logs = []\n",
        "    for df in dfs:\n",
        "        dfT = df.resample(str(T)+\"T\",on = \"ts\").agg(\"first\")\n",
        "        log = np.log(dfT.price) - np.log(dfT.price.shift(1))\n",
        "        log = log.dropna().to_numpy()\n",
        "        logs += [log]\n",
        "    logs = np.concatenate(logs)\n",
        "    logs = logs-np.mean(logs)\n",
        "    logs = logs/np.std(logs)\n",
        "    return np.abs(logs)"
      ]
    },
    {
      "cell_type": "code",
      "source": [
        "dfs[0].resample(\"1T\",on = \"ts\").agg('first')"
      ],
      "metadata": {
        "colab": {
          "base_uri": "https://localhost:8080/",
          "height": 455
        },
        "id": "3OaXbZRx3mOP",
        "outputId": "cb743ba0-2a35-43d9-f91a-8b1f69a5f38c"
      },
      "execution_count": 77,
      "outputs": [
        {
          "output_type": "execute_result",
          "data": {
            "text/plain": [
              "                     Unnamed: 0                      ts   price  volume  \\\n",
              "ts                                                                        \n",
              "2017-01-02 09:00:00         0.0 2017-01-02 09:00:15.576  48.470   100.0   \n",
              "2017-01-02 09:01:00        10.0 2017-01-02 09:01:04.474  48.530    91.0   \n",
              "2017-01-02 09:02:00        23.0 2017-01-02 09:02:02.891  48.525  8010.0   \n",
              "2017-01-02 09:03:00       134.0 2017-01-02 09:03:01.969  48.600   472.0   \n",
              "2017-01-02 09:04:00       148.0 2017-01-02 09:04:09.736  48.615   149.0   \n",
              "...                         ...                     ...     ...     ...   \n",
              "2017-01-02 17:25:00      6720.0 2017-01-02 17:25:19.176  48.660   176.0   \n",
              "2017-01-02 17:26:00      6739.0 2017-01-02 17:26:04.745  48.655    23.0   \n",
              "2017-01-02 17:27:00      6785.0 2017-01-02 17:27:05.411  48.625   300.0   \n",
              "2017-01-02 17:28:00      6797.0 2017-01-02 17:28:00.125  48.640   500.0   \n",
              "2017-01-02 17:29:00      6815.0 2017-01-02 17:29:00.942  48.650    24.0   \n",
              "\n",
              "                     time_in_s  \n",
              "ts                              \n",
              "2017-01-02 09:00:00  32415.576  \n",
              "2017-01-02 09:01:00  32464.474  \n",
              "2017-01-02 09:02:00  32522.891  \n",
              "2017-01-02 09:03:00  32581.969  \n",
              "2017-01-02 09:04:00  32649.736  \n",
              "...                        ...  \n",
              "2017-01-02 17:25:00  62719.176  \n",
              "2017-01-02 17:26:00  62764.745  \n",
              "2017-01-02 17:27:00  62825.411  \n",
              "2017-01-02 17:28:00  62880.125  \n",
              "2017-01-02 17:29:00  62940.942  \n",
              "\n",
              "[510 rows x 5 columns]"
            ],
            "text/html": [
              "\n",
              "  <div id=\"df-2bd58cda-e627-46a7-9d3f-ee300d19522c\">\n",
              "    <div class=\"colab-df-container\">\n",
              "      <div>\n",
              "<style scoped>\n",
              "    .dataframe tbody tr th:only-of-type {\n",
              "        vertical-align: middle;\n",
              "    }\n",
              "\n",
              "    .dataframe tbody tr th {\n",
              "        vertical-align: top;\n",
              "    }\n",
              "\n",
              "    .dataframe thead th {\n",
              "        text-align: right;\n",
              "    }\n",
              "</style>\n",
              "<table border=\"1\" class=\"dataframe\">\n",
              "  <thead>\n",
              "    <tr style=\"text-align: right;\">\n",
              "      <th></th>\n",
              "      <th>Unnamed: 0</th>\n",
              "      <th>ts</th>\n",
              "      <th>price</th>\n",
              "      <th>volume</th>\n",
              "      <th>time_in_s</th>\n",
              "    </tr>\n",
              "    <tr>\n",
              "      <th>ts</th>\n",
              "      <th></th>\n",
              "      <th></th>\n",
              "      <th></th>\n",
              "      <th></th>\n",
              "      <th></th>\n",
              "    </tr>\n",
              "  </thead>\n",
              "  <tbody>\n",
              "    <tr>\n",
              "      <th>2017-01-02 09:00:00</th>\n",
              "      <td>0.0</td>\n",
              "      <td>2017-01-02 09:00:15.576</td>\n",
              "      <td>48.470</td>\n",
              "      <td>100.0</td>\n",
              "      <td>32415.576</td>\n",
              "    </tr>\n",
              "    <tr>\n",
              "      <th>2017-01-02 09:01:00</th>\n",
              "      <td>10.0</td>\n",
              "      <td>2017-01-02 09:01:04.474</td>\n",
              "      <td>48.530</td>\n",
              "      <td>91.0</td>\n",
              "      <td>32464.474</td>\n",
              "    </tr>\n",
              "    <tr>\n",
              "      <th>2017-01-02 09:02:00</th>\n",
              "      <td>23.0</td>\n",
              "      <td>2017-01-02 09:02:02.891</td>\n",
              "      <td>48.525</td>\n",
              "      <td>8010.0</td>\n",
              "      <td>32522.891</td>\n",
              "    </tr>\n",
              "    <tr>\n",
              "      <th>2017-01-02 09:03:00</th>\n",
              "      <td>134.0</td>\n",
              "      <td>2017-01-02 09:03:01.969</td>\n",
              "      <td>48.600</td>\n",
              "      <td>472.0</td>\n",
              "      <td>32581.969</td>\n",
              "    </tr>\n",
              "    <tr>\n",
              "      <th>2017-01-02 09:04:00</th>\n",
              "      <td>148.0</td>\n",
              "      <td>2017-01-02 09:04:09.736</td>\n",
              "      <td>48.615</td>\n",
              "      <td>149.0</td>\n",
              "      <td>32649.736</td>\n",
              "    </tr>\n",
              "    <tr>\n",
              "      <th>...</th>\n",
              "      <td>...</td>\n",
              "      <td>...</td>\n",
              "      <td>...</td>\n",
              "      <td>...</td>\n",
              "      <td>...</td>\n",
              "    </tr>\n",
              "    <tr>\n",
              "      <th>2017-01-02 17:25:00</th>\n",
              "      <td>6720.0</td>\n",
              "      <td>2017-01-02 17:25:19.176</td>\n",
              "      <td>48.660</td>\n",
              "      <td>176.0</td>\n",
              "      <td>62719.176</td>\n",
              "    </tr>\n",
              "    <tr>\n",
              "      <th>2017-01-02 17:26:00</th>\n",
              "      <td>6739.0</td>\n",
              "      <td>2017-01-02 17:26:04.745</td>\n",
              "      <td>48.655</td>\n",
              "      <td>23.0</td>\n",
              "      <td>62764.745</td>\n",
              "    </tr>\n",
              "    <tr>\n",
              "      <th>2017-01-02 17:27:00</th>\n",
              "      <td>6785.0</td>\n",
              "      <td>2017-01-02 17:27:05.411</td>\n",
              "      <td>48.625</td>\n",
              "      <td>300.0</td>\n",
              "      <td>62825.411</td>\n",
              "    </tr>\n",
              "    <tr>\n",
              "      <th>2017-01-02 17:28:00</th>\n",
              "      <td>6797.0</td>\n",
              "      <td>2017-01-02 17:28:00.125</td>\n",
              "      <td>48.640</td>\n",
              "      <td>500.0</td>\n",
              "      <td>62880.125</td>\n",
              "    </tr>\n",
              "    <tr>\n",
              "      <th>2017-01-02 17:29:00</th>\n",
              "      <td>6815.0</td>\n",
              "      <td>2017-01-02 17:29:00.942</td>\n",
              "      <td>48.650</td>\n",
              "      <td>24.0</td>\n",
              "      <td>62940.942</td>\n",
              "    </tr>\n",
              "  </tbody>\n",
              "</table>\n",
              "<p>510 rows × 5 columns</p>\n",
              "</div>\n",
              "      <button class=\"colab-df-convert\" onclick=\"convertToInteractive('df-2bd58cda-e627-46a7-9d3f-ee300d19522c')\"\n",
              "              title=\"Convert this dataframe to an interactive table.\"\n",
              "              style=\"display:none;\">\n",
              "        \n",
              "  <svg xmlns=\"http://www.w3.org/2000/svg\" height=\"24px\"viewBox=\"0 0 24 24\"\n",
              "       width=\"24px\">\n",
              "    <path d=\"M0 0h24v24H0V0z\" fill=\"none\"/>\n",
              "    <path d=\"M18.56 5.44l.94 2.06.94-2.06 2.06-.94-2.06-.94-.94-2.06-.94 2.06-2.06.94zm-11 1L8.5 8.5l.94-2.06 2.06-.94-2.06-.94L8.5 2.5l-.94 2.06-2.06.94zm10 10l.94 2.06.94-2.06 2.06-.94-2.06-.94-.94-2.06-.94 2.06-2.06.94z\"/><path d=\"M17.41 7.96l-1.37-1.37c-.4-.4-.92-.59-1.43-.59-.52 0-1.04.2-1.43.59L10.3 9.45l-7.72 7.72c-.78.78-.78 2.05 0 2.83L4 21.41c.39.39.9.59 1.41.59.51 0 1.02-.2 1.41-.59l7.78-7.78 2.81-2.81c.8-.78.8-2.07 0-2.86zM5.41 20L4 18.59l7.72-7.72 1.47 1.35L5.41 20z\"/>\n",
              "  </svg>\n",
              "      </button>\n",
              "      \n",
              "  <style>\n",
              "    .colab-df-container {\n",
              "      display:flex;\n",
              "      flex-wrap:wrap;\n",
              "      gap: 12px;\n",
              "    }\n",
              "\n",
              "    .colab-df-convert {\n",
              "      background-color: #E8F0FE;\n",
              "      border: none;\n",
              "      border-radius: 50%;\n",
              "      cursor: pointer;\n",
              "      display: none;\n",
              "      fill: #1967D2;\n",
              "      height: 32px;\n",
              "      padding: 0 0 0 0;\n",
              "      width: 32px;\n",
              "    }\n",
              "\n",
              "    .colab-df-convert:hover {\n",
              "      background-color: #E2EBFA;\n",
              "      box-shadow: 0px 1px 2px rgba(60, 64, 67, 0.3), 0px 1px 3px 1px rgba(60, 64, 67, 0.15);\n",
              "      fill: #174EA6;\n",
              "    }\n",
              "\n",
              "    [theme=dark] .colab-df-convert {\n",
              "      background-color: #3B4455;\n",
              "      fill: #D2E3FC;\n",
              "    }\n",
              "\n",
              "    [theme=dark] .colab-df-convert:hover {\n",
              "      background-color: #434B5C;\n",
              "      box-shadow: 0px 1px 3px 1px rgba(0, 0, 0, 0.15);\n",
              "      filter: drop-shadow(0px 1px 2px rgba(0, 0, 0, 0.3));\n",
              "      fill: #FFFFFF;\n",
              "    }\n",
              "  </style>\n",
              "\n",
              "      <script>\n",
              "        const buttonEl =\n",
              "          document.querySelector('#df-2bd58cda-e627-46a7-9d3f-ee300d19522c button.colab-df-convert');\n",
              "        buttonEl.style.display =\n",
              "          google.colab.kernel.accessAllowed ? 'block' : 'none';\n",
              "\n",
              "        async function convertToInteractive(key) {\n",
              "          const element = document.querySelector('#df-2bd58cda-e627-46a7-9d3f-ee300d19522c');\n",
              "          const dataTable =\n",
              "            await google.colab.kernel.invokeFunction('convertToInteractive',\n",
              "                                                     [key], {});\n",
              "          if (!dataTable) return;\n",
              "\n",
              "          const docLinkHtml = 'Like what you see? Visit the ' +\n",
              "            '<a target=\"_blank\" href=https://colab.research.google.com/notebooks/data_table.ipynb>data table notebook</a>'\n",
              "            + ' to learn more about interactive tables.';\n",
              "          element.innerHTML = '';\n",
              "          dataTable['output_type'] = 'display_data';\n",
              "          await google.colab.output.renderOutput(dataTable, element);\n",
              "          const docLink = document.createElement('div');\n",
              "          docLink.innerHTML = docLinkHtml;\n",
              "          element.appendChild(docLink);\n",
              "        }\n",
              "      </script>\n",
              "    </div>\n",
              "  </div>\n",
              "  "
            ]
          },
          "metadata": {},
          "execution_count": 77
        }
      ]
    },
    {
      "cell_type": "code",
      "execution_count": 79,
      "metadata": {
        "id": "jzW1zLnstwlM"
      },
      "outputs": [],
      "source": [
        "logs1 = np.sort(logs(1))\n",
        "logs5 = np.sort(logs(5))\n",
        "logs15 = np.sort(logs(15))"
      ]
    },
    {
      "cell_type": "code",
      "execution_count": 80,
      "metadata": {
        "scrolled": true,
        "colab": {
          "base_uri": "https://localhost:8080/",
          "height": 313
        },
        "id": "g3YuMgJutwlM",
        "outputId": "e14b24c4-77ac-4df8-dd80-10616ca68e2e"
      },
      "outputs": [
        {
          "output_type": "execute_result",
          "data": {
            "text/plain": [
              "(0.0, 4.0)"
            ]
          },
          "metadata": {},
          "execution_count": 80
        },
        {
          "output_type": "display_data",
          "data": {
            "text/plain": [
              "<Figure size 432x288 with 1 Axes>"
            ],
            "image/png": "[encoded data removed]"
          },
          "metadata": {
            "needs_background": "light"
          }
        }
      ],
      "source": [
        "fig,ax = plt.subplots()\n",
        "ax.set_title('cumulative empirical distribution of the absolute log-returns sampled every 1, 5 and 15 minutes')\n",
        "ax.plot(logs1,np.arange(0,1,1/logs1.shape[0]))\n",
        "ax.plot(logs5,np.arange(0,1,1/logs5.shape[0]))\n",
        "ax.plot(logs15,np.arange(0,1,1/logs15.shape[0]))\n",
        "x = np.arange(0,8,1/100)\n",
        "ax.plot(x,scipy.stats.norm.cdf(x) - scipy.stats.norm.cdf(-x))\n",
        "ax.set_xlabel(\"normalized absoulte log returns\")\n",
        "ax.set_ylabel(\"cumulative distribution\")\n",
        "ax.legend([\"sampled every 1 min\",\"every 5 min\",\"every 15 min\",\"absolute gaussian\"])\n",
        "ax.set_xlim(0,4)"
      ]
    },
    {
      "cell_type": "code",
      "source": [
        "x = np.arange(0,1,0.01)\n",
        "scipy.stats.norm.cdf(x)"
      ],
      "metadata": {
        "colab": {
          "base_uri": "https://localhost:8080/"
        },
        "id": "VBX0Zzm51vkg",
        "outputId": "f6eafe16-6acd-4604-aa23-4065f748b030"
      },
      "execution_count": 82,
      "outputs": [
        {
          "output_type": "execute_result",
          "data": {
            "text/plain": [
              "array([0.5       , 0.50398936, 0.50797831, 0.51196647, 0.51595344,\n",
              "       0.51993881, 0.52392218, 0.52790317, 0.53188137, 0.53585639,\n",
              "       0.53982784, 0.54379531, 0.54775843, 0.55171679, 0.55567   ,\n",
              "       0.55961769, 0.56355946, 0.56749493, 0.57142372, 0.57534543,\n",
              "       0.57925971, 0.58316616, 0.58706442, 0.59095412, 0.59483487,\n",
              "       0.59870633, 0.60256811, 0.60641987, 0.61026125, 0.61409188,\n",
              "       0.61791142, 0.62171952, 0.62551583, 0.62930002, 0.63307174,\n",
              "       0.63683065, 0.64057643, 0.64430875, 0.64802729, 0.65173173,\n",
              "       0.65542174, 0.65909703, 0.66275727, 0.66640218, 0.67003145,\n",
              "       0.67364478, 0.67724189, 0.68082249, 0.6843863 , 0.68793305,\n",
              "       0.69146246, 0.69497427, 0.69846821, 0.70194403, 0.70540148,\n",
              "       0.70884031, 0.71226028, 0.71566115, 0.71904269, 0.72240468,\n",
              "       0.72574688, 0.7290691 , 0.73237111, 0.73565271, 0.7389137 ,\n",
              "       0.74215389, 0.74537309, 0.7485711 , 0.75174777, 0.75490291,\n",
              "       0.75803635, 0.76114793, 0.7642375 , 0.76730491, 0.77035   ,\n",
              "       0.77337265, 0.77637271, 0.77935005, 0.78230456, 0.78523612,\n",
              "       0.7881446 , 0.79102991, 0.79389195, 0.79673061, 0.79954581,\n",
              "       0.80233746, 0.80510548, 0.8078498 , 0.81057035, 0.81326706,\n",
              "       0.81593987, 0.81858875, 0.82121362, 0.82381446, 0.82639122,\n",
              "       0.82894387, 0.83147239, 0.83397675, 0.83645694, 0.83891294])"
            ]
          },
          "metadata": {},
          "execution_count": 82
        }
      ]
    },
    {
      "cell_type": "markdown",
      "metadata": {
        "id": "FFvwCWdBtwlN"
      },
      "source": [
        "The distributions are all similar."
      ]
    },
    {
      "cell_type": "code",
      "execution_count": 84,
      "metadata": {
        "id": "lxu05S0ktwlN",
        "colab": {
          "base_uri": "https://localhost:8080/"
        },
        "outputId": "ce70dc88-57a2-47dc-b324-10d4d0baad69"
      },
      "outputs": [
        {
          "output_type": "stream",
          "name": "stdout",
          "text": [
            "1.1488446517836206e-08\n"
          ]
        }
      ],
      "source": [
        "def varlogs(N):\n",
        "    logs = []\n",
        "    for df in dfs:\n",
        "        log = np.log(df.price) - np.log(df.price.shift(N))\n",
        "        log = log.dropna().to_numpy()\n",
        "        logs += [log]\n",
        "    logs = np.concatenate(logs)\n",
        "    return np.var(logs)\n",
        "\n",
        "print(varlogs(2))"
      ]
    },
    {
      "cell_type": "code",
      "execution_count": 86,
      "metadata": {
        "scrolled": true,
        "colab": {
          "base_uri": "https://localhost:8080/",
          "height": 313
        },
        "id": "1Xmu0h75twlN",
        "outputId": "1637b693-9ae4-46e6-8b8c-6934eff127b4"
      },
      "outputs": [
        {
          "output_type": "execute_result",
          "data": {
            "text/plain": [
              "Text(0, 0.5, 'variance of log returns')"
            ]
          },
          "metadata": {},
          "execution_count": 86
        },
        {
          "output_type": "display_data",
          "data": {
            "text/plain": [
              "<Figure size 432x288 with 1 Axes>"
            ],
            "image/png": "[encoded data removed]"
          },
          "metadata": {
            "needs_background": "light"
          }
        }
      ],
      "source": [
        "vas = []\n",
        "for n in range(1,1000,10):\n",
        "    vas += [varlogs(n)]\n",
        "\n",
        "fig,ax = plt.subplots()\n",
        "ax.set_title('The variance of return with N')\n",
        "ax.plot(range(1,1000,10),vas)\n",
        "ax.set_xlabel(\"number of trades for sampling\")\n",
        "ax.set_ylabel(\"variance of log returns\")"
      ]
    },
    {
      "cell_type": "markdown",
      "metadata": {
        "id": "UyJ_0typtwlN"
      },
      "source": [
        "As expected, the variance of log returns is strongly correlated with the market activity."
      ]
    },
    {
      "cell_type": "code",
      "execution_count": 87,
      "metadata": {
        "id": "Uq_n6-uDtwlO"
      },
      "outputs": [],
      "source": [
        "def varlogs_t(T):\n",
        "    logs = []\n",
        "    for df in dfs:\n",
        "        dfT = df.resample(str(T)+\"T\",on = \"ts\").agg(\"first\")\n",
        "        log = np.log(dfT.price) - np.log(dfT.price.shift(1))\n",
        "        log = log.dropna().to_numpy()\n",
        "        logs += [log]\n",
        "    logs = np.concatenate(logs)\n",
        "    return np.var(logs)\n",
        "\n",
        "def mean_trades(T):\n",
        "    trades = []\n",
        "    for df in dfs:\n",
        "        df[\"trades\"] = 1\n",
        "        dfT = df.resample(str(T)+\"T\",on = \"ts\").agg(\"sum\")\n",
        "        trades += [dfT[\"trades\"]]\n",
        "    trades = np.concatenate(trades)\n",
        "    return np.mean(trades)"
      ]
    },
    {
      "cell_type": "code",
      "execution_count": 88,
      "metadata": {
        "id": "_0ptt4-1twlO"
      },
      "outputs": [],
      "source": [
        "means = []\n",
        "vas = []\n",
        "for n in range(1,100):\n",
        "    vas += [varlogs_t(n)]\n",
        "    means += [mean_trades(n)]"
      ]
    },
    {
      "cell_type": "code",
      "execution_count": 89,
      "metadata": {
        "colab": {
          "base_uri": "https://localhost:8080/",
          "height": 283
        },
        "id": "NzdLNTTutwlO",
        "outputId": "948d4398-1dc2-44a8-d04f-50b36ecb5aad"
      },
      "outputs": [
        {
          "output_type": "display_data",
          "data": {
            "text/plain": [
              "<Figure size 432x288 with 2 Axes>"
            ],
            "image/png": "[encoded data removed]"
          },
          "metadata": {
            "needs_background": "light"
          }
        }
      ],
      "source": [
        "fig,ax = plt.subplots()\n",
        "ax.plot(vas)\n",
        "ax.set_xlabel(\"time in minutes\")\n",
        "ax.set_ylabel(\"variance of the log returns\")\n",
        "ax2 = ax.twinx()\n",
        "ax2.plot(means,c = \"red\")\n",
        "ax2.set_ylabel(\"mean of number of trades\",c = \"red\")\n",
        "ax2.set_yscale(\"log\")\n",
        "ax.set_yscale(\"log\")\n",
        "plt.xscale(\"log\")"
      ]
    },
    {
      "cell_type": "markdown",
      "metadata": {
        "id": "FMHhqp8ntwlO"
      },
      "source": [
        "As expected, trading activity and variance of the log returns are correlated"
      ]
    }
  ],
  "metadata": {
    "kernelspec": {
      "display_name": "Python 3",
      "language": "python",
      "name": "python3"
    },
    "language_info": {
      "codemirror_mode": {
        "name": "ipython",
        "version": 3
      },
      "file_extension": ".py",
      "mimetype": "text/x-python",
      "name": "python",
      "nbconvert_exporter": "python",
      "pygments_lexer": "ipython3",
      "version": "3.6.7"
    },
    "colab": {
      "name": "DHF1.ipynb",
      "provenance": [],
      "collapsed_sections": []
    }
  },
  "nbformat": 4,
  "nbformat_minor": 0
}