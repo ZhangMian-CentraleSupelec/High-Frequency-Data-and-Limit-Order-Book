{
  "cells": [
    {
      "cell_type": "markdown",
      "metadata": {
        "id": "7l8yRQgkmxj-"
      },
      "source": [
        "# High-frequency data and limit order book - Lab4\n",
        "ZHANG Mian \\\n",
        "CentraleSupélec"
      ]
    },
    {
      "cell_type": "code",
      "execution_count": 4,
      "metadata": {
        "id": "o-VWWUlfmxkE"
      },
      "outputs": [],
      "source": [
        "import numpy as np\n",
        "import matplotlib.pyplot as plt\n",
        "import time\n",
        "import scipy.stats\n",
        "from scipy.optimize import minimize\n",
        "import os\n",
        "import Hawkes as hk\n",
        "from statsmodels.distributions.empirical_distribution import ECDF"
      ]
    },
    {
      "cell_type": "markdown",
      "metadata": {
        "id": "MxmE-ummmxkH"
      },
      "source": [
        "## 1. Implémentation des routines"
      ]
    },
    {
      "cell_type": "code",
      "execution_count": 5,
      "metadata": {
        "id": "TKXhlEIdmxkI"
      },
      "outputs": [],
      "source": [
        "def simulate_hawkes(alpha,beta,lambda_0,T):\n",
        "    t = 0\n",
        "    lstar = lambda_0\n",
        "    events = []\n",
        "    sum_nu = 0\n",
        "    while t<T:\n",
        "        u = np.random.random()\n",
        "        t = t-np.log(u)/lstar\n",
        "        lambda_t = lambda_0+np.exp(-beta*t)*sum_nu\n",
        "        if t>=T:\n",
        "            return events\n",
        "        d = np.random.random()\n",
        "        if d < lambda_t/lstar:\n",
        "            lstar = lambda_t + alpha\n",
        "            sum_nu += alpha*np.exp(beta*t)\n",
        "            events += [t]\n",
        "        else:\n",
        "            lstar = lambda_t           "
      ]
    },
    {
      "cell_type": "code",
      "execution_count": 6,
      "metadata": {
        "id": "1nmMfVV7mxkJ"
      },
      "outputs": [],
      "source": [
        "def compute_ll(alpha,beta,lambda_0,T,samples):\n",
        "    ll = -lambda_0*T\n",
        "    ti_minus = samples[0]\n",
        "    for ti in samples:\n",
        "        ll -= alpha/beta*(1-np.exp(-beta*(T-ti)))\n",
        "        if ti_minus == samples[0]:\n",
        "            R = 0\n",
        "        else:\n",
        "            R = (1+R)*np.exp(-beta*(ti-ti_minus))\n",
        "        ll += np.log(lambda_0 + alpha*R)\n",
        "        ti_minus = ti\n",
        "    return ll "
      ]
    },
    {
      "cell_type": "code",
      "execution_count": 7,
      "metadata": {
        "id": "j9xaZosxmxkJ"
      },
      "outputs": [],
      "source": [
        "def MLE_estimator(theta_0,T,samples):\n",
        "    def obj(theta):\n",
        "        return -compute_ll(theta[0],theta[1],theta[2],T,samples)\n",
        "    bounds = [(0,None),(0,None),(0,None)]\n",
        "    def fun(theta):\n",
        "        return theta[1]/theta[0] - 1\n",
        "    const = {\"type\": \"ineq\",\"fun\": fun}\n",
        "    return minimize(obj,theta_0,bounds = bounds, constraints = const, method = 'L-BFGS-B')[\"x\"]"
      ]
    },
    {
      "cell_type": "code",
      "execution_count": 8,
      "metadata": {
        "id": "nE6bFaQZmxkK"
      },
      "outputs": [],
      "source": [
        "def duration_transform(alpha,beta,lambda_0,T,samples):\n",
        "    new_samples = []\n",
        "    A = 1\n",
        "    for i in range(1,len(samples)):\n",
        "        dt = samples[i]-samples[i-1]\n",
        "        t = lambda_0*dt + alpha/beta*(1-1*np.exp(-beta*dt))*A\n",
        "        new_samples += [t]\n",
        "        A = 1 + np.exp(-beta*dt)*A\n",
        "    return new_samples"
      ]
    },
    {
      "cell_type": "markdown",
      "metadata": {
        "id": "tRrZzMO3mxkL"
      },
      "source": [
        "## 2. Test de l'implémentation"
      ]
    },
    {
      "cell_type": "code",
      "execution_count": 9,
      "metadata": {
        "id": "2LKeM83XmxkM"
      },
      "outputs": [],
      "source": [
        "alpha = 0.9\n",
        "beta = 1.5\n",
        "T = 100\n",
        "lambda_0 = 2\n",
        "samples = simulate_hawkes(alpha,beta,lambda_0,T)"
      ]
    },
    {
      "cell_type": "code",
      "execution_count": 10,
      "metadata": {
        "id": "iyUPU0mYmxkO",
        "colab": {
          "base_uri": "https://localhost:8080/"
        },
        "outputId": "162b6ae7-32fd-4069-9e44-19328de65b4d"
      },
      "outputs": [
        {
          "output_type": "stream",
          "name": "stderr",
          "text": [
            "/usr/local/lib/python3.7/dist-packages/scipy/optimize/_minimize.py:542: RuntimeWarning: Method L-BFGS-B cannot handle constraints.\n",
            "  RuntimeWarning)\n"
          ]
        }
      ],
      "source": [
        "theta_hat = MLE_estimator([0.1,0.5,1],T,samples)"
      ]
    },
    {
      "cell_type": "code",
      "execution_count": 11,
      "metadata": {
        "scrolled": true,
        "id": "d98a2O61mxkP",
        "outputId": "760689f7-03f9-451c-a9f4-7dec8415624f",
        "colab": {
          "base_uri": "https://localhost:8080/"
        }
      },
      "outputs": [
        {
          "output_type": "execute_result",
          "data": {
            "text/plain": [
              "array([0.91264122, 1.84105389, 2.53290669])"
            ]
          },
          "metadata": {},
          "execution_count": 11
        }
      ],
      "source": [
        "theta_hat"
      ]
    },
    {
      "cell_type": "markdown",
      "metadata": {
        "id": "3iYbBaWgmxkR"
      },
      "source": [
        "On retrouve des valeurs proches de celles attendues pour tous les paramètres."
      ]
    },
    {
      "cell_type": "code",
      "execution_count": 12,
      "metadata": {
        "id": "rAzqbfunmxkR"
      },
      "outputs": [],
      "source": [
        "tt = duration_transform(theta_hat[0],theta_hat[1],theta_hat[2],T,samples)"
      ]
    },
    {
      "cell_type": "code",
      "execution_count": 13,
      "metadata": {
        "scrolled": false,
        "id": "ilEwg6X0mxkR",
        "outputId": "7b433153-79ac-447d-acea-64574bb0ef47",
        "colab": {
          "base_uri": "https://localhost:8080/",
          "height": 296
        }
      },
      "outputs": [
        {
          "output_type": "display_data",
          "data": {
            "text/plain": [
              "<Figure size 432x288 with 1 Axes>"
            ],
            "image/png": "[encoded data removed]"
          },
          "metadata": {
            "needs_background": "light"
          }
        }
      ],
      "source": [
        "ecdf = ECDF(tt)\n",
        "qnorm = []\n",
        "for i in range(len(ecdf.y)):\n",
        "    q = ecdf.y[i]\n",
        "    qnorm += [scipy.stats.expon.ppf(q)]\n",
        "\n",
        "fig,ax = plt.subplots()\n",
        "ax.scatter(qnorm,ecdf.x, color = \"red\")\n",
        "ax.plot(qnorm,qnorm)\n",
        "ax.set_title(\"QQ plot\")\n",
        "ax.set_xlabel(\"quantiles théoriques\")\n",
        "ax.set_ylabel(\"quantiles empiriques\");"
      ]
    },
    {
      "cell_type": "markdown",
      "metadata": {
        "id": "3_ymTIkYmxkS"
      },
      "source": [
        "On retrouve bien que les durations transformées sont distribuées selon une exponentielle de paramètre 1, ce qui indique un bon fit."
      ]
    },
    {
      "cell_type": "markdown",
      "metadata": {
        "id": "dAgo3EuzmxkS"
      },
      "source": [
        "## 3. Convergence et performance"
      ]
    },
    {
      "cell_type": "code",
      "execution_count": 14,
      "metadata": {
        "collapsed": true,
        "id": "HzDHKuZFmxkT",
        "outputId": "01b06ca5-b43b-4e7c-8f05-d6eaa051e30b",
        "colab": {
          "base_uri": "https://localhost:8080/"
        }
      },
      "outputs": [
        {
          "output_type": "stream",
          "name": "stdout",
          "text": [
            "50\n"
          ]
        },
        {
          "output_type": "stream",
          "name": "stderr",
          "text": [
            "/usr/local/lib/python3.7/dist-packages/scipy/optimize/_minimize.py:542: RuntimeWarning: Method L-BFGS-B cannot handle constraints.\n",
            "  RuntimeWarning)\n",
            "/usr/local/lib/python3.7/dist-packages/ipykernel_launcher.py:5: RuntimeWarning: divide by zero encountered in double_scalars\n",
            "  \"\"\"\n",
            "/usr/local/lib/python3.7/dist-packages/ipykernel_launcher.py:5: RuntimeWarning: invalid value encountered in double_scalars\n",
            "  \"\"\"\n"
          ]
        },
        {
          "output_type": "stream",
          "name": "stdout",
          "text": [
            "60\n",
            "70\n",
            "80\n",
            "90\n",
            "100\n",
            "110\n",
            "120\n",
            "130\n",
            "140\n",
            "150\n",
            "160\n",
            "170\n",
            "180\n",
            "190\n"
          ]
        }
      ],
      "source": [
        "alpha = 0.9\n",
        "beta = 1.5\n",
        "lambda_0 = 2\n",
        "theta_star = np.array([0.9,1,2])\n",
        "tss = []\n",
        "tes = []\n",
        "covs = []\n",
        "for T in range(50,200,10):\n",
        "    print(T)\n",
        "    ts = 0\n",
        "    te = 0\n",
        "    es = []\n",
        "    for i in range(100):\n",
        "        t = time.time()\n",
        "        samples = simulate_hawkes(alpha,beta,lambda_0,T)\n",
        "        ts += (time.time()-t)/100\n",
        "        t = time.time()\n",
        "        theta_hat = MLE_estimator([0.1,0.5,1],T,samples)\n",
        "        te += (time.time()-t)/100\n",
        "        es += [theta_star-theta_hat]\n",
        "    covs += [np.linalg.det(np.cov(es,rowvar = False))]\n",
        "    tss += [ts]\n",
        "    tes += [te]  "
      ]
    },
    {
      "cell_type": "code",
      "execution_count": 15,
      "metadata": {
        "id": "fqcc0tJwmxkT",
        "outputId": "8d5526ff-f586-436b-a27d-696bb8c9c620",
        "colab": {
          "base_uri": "https://localhost:8080/",
          "height": 279
        }
      },
      "outputs": [
        {
          "output_type": "display_data",
          "data": {
            "text/plain": [
              "<Figure size 432x288 with 1 Axes>"
            ],
            "image/png": "[encoded data removed]"
          },
          "metadata": {
            "needs_background": "light"
          }
        }
      ],
      "source": [
        "fig,ax = plt.subplots()\n",
        "ax.plot([T for T in range(50,200,10)],1/np.array(covs)**(1/3))\n",
        "ax.set_xlabel(\"T\")\n",
        "ax.set_ylabel(\"det(cov(theta_star-theta_hat))^(1/3)\");"
      ]
    },
    {
      "cell_type": "markdown",
      "metadata": {
        "id": "_J2afu5DmxkU"
      },
      "source": [
        "Comme on a 3 paramètres à estimer, on s'attend à ce que $\\frac{1}{det(cov(\\theta^*-\\hat{\\theta}_T))}$ soit linéaire en $T^{3}$, ce qui semble être le cas."
      ]
    },
    {
      "cell_type": "code",
      "execution_count": 16,
      "metadata": {
        "id": "LuxFhoPUmxkU",
        "outputId": "9519f0a8-0033-4f40-efef-2a35f9316079",
        "colab": {
          "base_uri": "https://localhost:8080/",
          "height": 279
        }
      },
      "outputs": [
        {
          "output_type": "display_data",
          "data": {
            "text/plain": [
              "<Figure size 432x288 with 1 Axes>"
            ],
            "image/png": "[encoded data removed]"
          },
          "metadata": {
            "needs_background": "light"
          }
        }
      ],
      "source": [
        "fig,ax = plt.subplots()\n",
        "ax.plot([T for T in range(50,200,10)],tes)\n",
        "ax.set_xlabel(\"T\")\n",
        "ax.set_ylabel(\"temps d'estimation (s)\");"
      ]
    },
    {
      "cell_type": "code",
      "execution_count": 17,
      "metadata": {
        "id": "fPVpQvhGmxkV",
        "outputId": "2043c566-ab29-4a61-938e-fe19f731a4e1",
        "colab": {
          "base_uri": "https://localhost:8080/",
          "height": 279
        }
      },
      "outputs": [
        {
          "output_type": "display_data",
          "data": {
            "text/plain": [
              "<Figure size 432x288 with 1 Axes>"
            ],
            "image/png": "[encoded data removed]"
          },
          "metadata": {
            "needs_background": "light"
          }
        }
      ],
      "source": [
        "fig,ax = plt.subplots()\n",
        "ax.plot([T for T in range(50,200,10)],tss)\n",
        "ax.set_xlabel(\"T\")\n",
        "ax.set_ylabel(\"temps de simulation (s)\");"
      ]
    },
    {
      "cell_type": "markdown",
      "metadata": {
        "id": "9_i8gejimxkW"
      },
      "source": [
        "Le temps d'estimation des paramètres semble linéaire en $T$, le temps de simulation semble linéaire également, mais n'a pas aussi bien convergé en 100 itérations."
      ]
    }
  ],
  "metadata": {
    "kernelspec": {
      "display_name": "Python 3",
      "language": "python",
      "name": "python3"
    },
    "language_info": {
      "codemirror_mode": {
        "name": "ipython",
        "version": 3
      },
      "file_extension": ".py",
      "mimetype": "text/x-python",
      "name": "python",
      "nbconvert_exporter": "python",
      "pygments_lexer": "ipython3",
      "version": "3.6.7"
    },
    "colab": {
      "name": "DHF4.ipynb",
      "provenance": []
    }
  },
  "nbformat": 4,
  "nbformat_minor": 0
}