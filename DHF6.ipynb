{
  "cells": [
    {
      "cell_type": "markdown",
      "metadata": {
        "id": "KozH5MLEYFJ2"
      },
      "source": [
        "# High Frequency Data and Limit Order Book Lab6\n",
        "\n",
        "ZHANG Mian \\\n",
        "CentraleSupélec"
      ]
    },
    {
      "cell_type": "code",
      "execution_count": 1,
      "metadata": {
        "colab": {
          "base_uri": "https://localhost:8080/"
        },
        "id": "4LJHcZk1YFJ8",
        "outputId": "174c3c19-0292-4f91-c920-1d29177b3ca1"
      },
      "outputs": [
        {
          "output_type": "stream",
          "name": "stderr",
          "text": [
            "/usr/local/lib/python3.7/dist-packages/statsmodels/tools/_testing.py:19: FutureWarning: pandas.util.testing is deprecated. Use the functions in the public API at pandas.testing instead.\n",
            "  import pandas.util.testing as tm\n"
          ]
        }
      ],
      "source": [
        "import numpy as np\n",
        "import matplotlib.pyplot as plt\n",
        "import scipy.stats\n",
        "from statsmodels.graphics.tsaplots import plot_acf\n",
        "import pandas as pd\n",
        "\n",
        "%matplotlib inline"
      ]
    },
    {
      "cell_type": "markdown",
      "metadata": {
        "id": "CCePYvexYFJ-"
      },
      "source": [
        "## 1. Model definition and sanity check"
      ]
    },
    {
      "cell_type": "code",
      "execution_count": 2,
      "metadata": {
        "id": "CDMzw8rHYFJ_"
      },
      "outputs": [],
      "source": [
        "def simulate(T=500,N=1000,K=10,K2 = 20,mu = 2.5, l = 1.5, theta = 0.2,seed = 0):\n",
        "    np.random.seed(seed)\n",
        "    X = np.zeros(N,dtype = np.int32) #we use the initial X value given in the lab\n",
        "    X[:N//2] = -5 \n",
        "    X[N//2:] = 5\n",
        "    pb  = N//2-1 #we now the initial best bid and ask prices\n",
        "    pa = N//2\n",
        "    t = 0\n",
        "    L = np.zeros(6)\n",
        "    L[:2] = [mu,mu]\n",
        "    history_X = np.zeros((1,N))\n",
        "    history_X[0] = np.copy(X)\n",
        "    aw_h = np.zeros((0,K))\n",
        "    bw_h = np.zeros((0,K))\n",
        "    res = np.zeros((0,5))\n",
        "    lob = np.zeros((0,2*K2))\n",
        "    ks = []\n",
        "    acs = []\n",
        "    j = 1\n",
        "    i = 0\n",
        "    while t<T:\n",
        "        if j % 1000 == 0:\n",
        "            print(t)\n",
        "        k = 0\n",
        "        while X[pb] >= 0 and pb>0: #we update the ask and bid prices if a market order/a cancellation removed all the liquidity from the previous best\n",
        "            pb = pb-1\n",
        "        while X[pa] <= 0 and pa<N-1:\n",
        "            pa = pa+1\n",
        "        aw = X[pb+1:pb+K+1]\n",
        "        bw = X[pa-K:pa]\n",
        "        L[2] = len(bw)*l\n",
        "        L[3] = len(aw)*l\n",
        "        L[4] = -theta*np.sum(bw)\n",
        "        L[5] = theta*np.sum(aw)\n",
        "        sL = np.sum(L)\n",
        "        delta = scipy.stats.expon(scale = 1/sL).rvs()\n",
        "        i = np.random.choice(6,p = L/sL)\n",
        "        if i == 0:\n",
        "            X[pa] -= 1\n",
        "        elif i == 1:\n",
        "            X[pb] += 1\n",
        "        elif i == 2:\n",
        "            k = np.random.randint(1,len(bw)+1)\n",
        "            X[pa-k] -= 1\n",
        "            if pa-k > pb:\n",
        "                pb = pa-k #if a bid limit order is added in the spread, we update the bid price\n",
        "        elif i == 3:\n",
        "            k = np.random.randint(1,len(aw)+1)\n",
        "            X[pb+k] += 1\n",
        "            if pb+k < pa:\n",
        "                pa = pb+k #if an ask limit order is added in the spread, we update the ask price\n",
        "        elif i == 4:\n",
        "            k = np.random.choice(K,p=bw/np.sum(bw))\n",
        "            X[pa-K+k] += 1\n",
        "        else:\n",
        "            k = np.random.choice(K,p=aw/np.sum(aw))+1\n",
        "            X[pb+k] -= 1\n",
        "        history_X = np.concatenate([history_X,np.expand_dims(X,axis = 0)])\n",
        "        aw_h = np.concatenate([aw_h,np.expand_dims(aw,axis = 0)])\n",
        "        bw_h = np.concatenate([bw_h,np.expand_dims(bw,axis = 0)])\n",
        "        j = j+1\n",
        "        t = t+delta\n",
        "        acs += [i]\n",
        "        ks += [k]\n",
        "        new_line = np.zeros((1,5))\n",
        "        new_line[0,:] = [pb,pa,(pb+pa)/2,pa-pb,t]\n",
        "        res = np.concatenate([res,new_line])\n",
        "        new_lob = np.zeros((1,2*K2))\n",
        "        new_lob[0,:K2] = X[pb-K2+1:pb+1]\n",
        "        new_lob[0,K2:] = X[pa:pa+K2]\n",
        "        lob = np.concatenate([lob,new_lob])\n",
        "    return res,lob,history_X,acs,bw_h,aw_h,ks\n",
        "#res contains the dates of every event, as well as the best prices, mid price and spread after every event.\n",
        "#lob contains the K2 volumes of the prices closest to the best prices (different from the bid/ask windows because the spread is discarded ans K2 may be larger than K)\n",
        "#the other values were used for debugging purposes only. They contain the entire history of X, the actions taken, the bid and ask windows and the position which was changed in the windows after each event.\n",
        "        "
      ]
    },
    {
      "cell_type": "code",
      "execution_count": 3,
      "metadata": {
        "collapsed": true,
        "colab": {
          "base_uri": "https://localhost:8080/"
        },
        "id": "AiG0VIT_YFKB",
        "outputId": "beab55bb-3957-4559-daa0-9ab5fa2ae557"
      },
      "outputs": [
        {
          "output_type": "stream",
          "name": "stdout",
          "text": [
            "18.482322360727977\n",
            "34.70267220341978\n",
            "50.489573291749046\n",
            "68.40867529602862\n",
            "85.81001081129133\n",
            "101.826823662185\n",
            "118.36105677865396\n",
            "135.27994453649694\n",
            "152.1915334432429\n",
            "169.40257800511893\n",
            "185.48847311684727\n",
            "201.99852062617865\n",
            "218.84293694114498\n",
            "235.94504664051982\n",
            "252.32741516718798\n",
            "268.1370344357329\n",
            "283.8486868548103\n",
            "299.9776232959847\n",
            "317.19298828176034\n",
            "332.2054182278177\n",
            "348.48348560345687\n",
            "365.1613956877047\n",
            "381.14876889237297\n",
            "398.53245462680144\n",
            "415.8788203905386\n",
            "433.22330030340714\n",
            "450.54364946323005\n",
            "467.93745974168644\n",
            "484.1393604559453\n"
          ]
        }
      ],
      "source": [
        "res,lob,h,a,bh,ah,ks = simulate()"
      ]
    },
    {
      "cell_type": "code",
      "execution_count": 4,
      "metadata": {
        "scrolled": true,
        "colab": {
          "base_uri": "https://localhost:8080/",
          "height": 297
        },
        "id": "6JrYxFTUYFKD",
        "outputId": "a800e036-14da-4bd6-807d-23732bc3ae2a"
      },
      "outputs": [
        {
          "output_type": "execute_result",
          "data": {
            "text/plain": [
              "Text(0, 0.5, '(signed) volume')"
            ]
          },
          "metadata": {},
          "execution_count": 4
        },
        {
          "output_type": "display_data",
          "data": {
            "text/plain": [
              "<Figure size 432x288 with 1 Axes>"
            ],
            "image/png": "[encoded data removed]"
          },
          "metadata": {
            "needs_background": "light"
          }
        }
      ],
      "source": [
        "fig,ax = plt.subplots()\n",
        "ax.step(range(450,550),h[-2,450:550])\n",
        "ax.step(range(450,550),h[-1,450:550])\n",
        "ax.legend([\"second to last X\", \"last X\"])\n",
        "ax.set_xlabel(\"price\")\n",
        "ax.set_ylabel(\"(signed) volume\")"
      ]
    },
    {
      "cell_type": "code",
      "execution_count": 5,
      "metadata": {
        "scrolled": false,
        "colab": {
          "base_uri": "https://localhost:8080/"
        },
        "id": "6y7MBCfKYFKD",
        "outputId": "dd9e7752-cb04-4a5b-cf1b-cea735faeb24"
      },
      "outputs": [
        {
          "output_type": "execute_result",
          "data": {
            "text/plain": [
              "4"
            ]
          },
          "metadata": {},
          "execution_count": 5
        }
      ],
      "source": [
        "a[-1]"
      ]
    },
    {
      "cell_type": "markdown",
      "metadata": {
        "id": "Ar7BO-HoYFKE"
      },
      "source": [
        "A bid limit order is cancelled"
      ]
    },
    {
      "cell_type": "code",
      "execution_count": 6,
      "metadata": {
        "colab": {
          "base_uri": "https://localhost:8080/"
        },
        "id": "RzXqRDYNYFKF",
        "outputId": "cf538de2-6568-4d14-b589-0c1a7a74fd0b"
      },
      "outputs": [
        {
          "output_type": "execute_result",
          "data": {
            "text/plain": [
              "3"
            ]
          },
          "metadata": {},
          "execution_count": 6
        }
      ],
      "source": [
        "ks[-1]"
      ]
    },
    {
      "cell_type": "markdown",
      "metadata": {
        "id": "sSJOz-V9YFKF"
      },
      "source": [
        "The cancellation happens at the 4th lowest value of the window (which we can check because we can see where the window start)"
      ]
    },
    {
      "cell_type": "markdown",
      "metadata": {
        "id": "A_jVeHv_YFKG"
      },
      "source": [
        "The above plot and prints allow us to check that the last transition worked as expected. Changing the index of the events in the history h allowed us to chech other individual events at will, and we did not notice any irregularity."
      ]
    },
    {
      "cell_type": "code",
      "execution_count": 7,
      "metadata": {
        "id": "0i6xInpjYFKG"
      },
      "outputs": [],
      "source": [
        "columns = [\"bid\",\"ask\",\"mid\",\"spread\",\"time\"]\n",
        "df = pd.DataFrame(data = res, columns = columns)\n",
        "mins = (df[\"time\"]//60).astype(\"int\").astype(\"str\").str.zfill(2)\n",
        "secs = (df[\"time\"]%60*10**6).astype(\"int\").astype(\"str\").str.zfill(8)\n",
        "dt = mins.str.cat(secs)\n",
        "df[\"ts\"] = pd.to_datetime(dt,format = \"%M%S%f\")"
      ]
    },
    {
      "cell_type": "markdown",
      "metadata": {
        "id": "32jNP6pDYFKH"
      },
      "source": [
        "We change the arbitrary floats representing time to a datetime format (assuming that the floats represent a number of seconds, even though it does not necessarly), in order to use sampling methods in later questions."
      ]
    },
    {
      "cell_type": "code",
      "execution_count": 8,
      "metadata": {
        "scrolled": false,
        "colab": {
          "base_uri": "https://localhost:8080/",
          "height": 297
        },
        "id": "39YQfd8-YFKH",
        "outputId": "f40dc1a2-bea9-47b4-8ba3-d1bbbe5d8615"
      },
      "outputs": [
        {
          "output_type": "execute_result",
          "data": {
            "text/plain": [
              "Text(0, 0.5, 'probability of action')"
            ]
          },
          "metadata": {},
          "execution_count": 8
        },
        {
          "output_type": "display_data",
          "data": {
            "text/plain": [
              "<Figure size 432x288 with 1 Axes>"
            ],
            "image/png": "[encoded data removed]"
          },
          "metadata": {
            "needs_background": "light"
          }
        }
      ],
      "source": [
        "fig,ax = plt.subplots()\n",
        "ax.hist(a,bins = [-0.5+i for i in range(7)],density = True)\n",
        "ax.set_xlabel(\"action\")\n",
        "ax.set_ylabel(\"probability of action\")"
      ]
    },
    {
      "cell_type": "code",
      "execution_count": 9,
      "metadata": {
        "colab": {
          "base_uri": "https://localhost:8080/"
        },
        "id": "s5kwZp8gYFKI",
        "outputId": "9c9bd169-25e9-4c74-b8e8-e3917b51fe70"
      },
      "outputs": [
        {
          "output_type": "execute_result",
          "data": {
            "text/plain": [
              "29893"
            ]
          },
          "metadata": {},
          "execution_count": 9
        }
      ],
      "source": [
        "len(a)"
      ]
    },
    {
      "cell_type": "markdown",
      "metadata": {
        "id": "ApJUCXPKYFKJ"
      },
      "source": [
        "We excpect the intensity of the time of events to be around $2 \\mu + 2K\\lambda + 10K\\theta = 55$ (because the initial values of the volumes are at 5, so we expect $5\\theta$ to be close to the average intensity of the times of arrival for cancellation order on a given position of the window). Therefore, we excpect to have ~30 000 events in our simulation, which is the case. The relative number of events in each category are also distributed as expected (the event of the same type (market order/limit order/cancellation) have similar numbers of occurence regardless of the side of the lob they were related to; we excpected to have 6 times more limit orders than market orders based on the values of $\\mu$ and $K\\lambda$, which is verified)"
      ]
    },
    {
      "cell_type": "markdown",
      "metadata": {
        "id": "n7Gbf9YgYFKJ"
      },
      "source": [
        "## 2. Main analysis"
      ]
    },
    {
      "cell_type": "code",
      "execution_count": 10,
      "metadata": {
        "colab": {
          "base_uri": "https://localhost:8080/",
          "height": 553
        },
        "id": "duC-Di1nYFKK",
        "outputId": "b335b437-0acd-46d6-b370-f933c2a339fc"
      },
      "outputs": [
        {
          "output_type": "display_data",
          "data": {
            "text/plain": [
              "<Figure size 1080x648 with 1 Axes>"
            ],
            "image/png": "[encoded data removed]"
          },
          "metadata": {
            "needs_background": "light"
          }
        }
      ],
      "source": [
        "fig,ax = plt.subplots(figsize = (15,9))\n",
        "ax.bar(range(40),np.abs(np.mean(lob,axis = 0)))\n",
        "ax.set_xticks(range(40))\n",
        "ax.set_xticklabels([\"b\"+str(20-i) for i in range(20)]+[\"a\"+str(i+1) for i in range(20)])\n",
        "ax.set_title(\"LOB shape in calendar time\")\n",
        "ax.set_ylabel(\"volume\");"
      ]
    },
    {
      "cell_type": "markdown",
      "metadata": {
        "id": "Pn81AZzoYFKK"
      },
      "source": [
        "The average shape of the LOB is as expected, with a dip in volumes close to the spread.The peaks in the LOB right after and before the spread also make sense: neglecting the market orders, the initial value of X imposes that the volumes further away stay around 5, and the shape in between depends on the relative intensities of limit orders and cancellations. Here, we have significantly more limit orders, hence the peaks."
      ]
    },
    {
      "cell_type": "code",
      "execution_count": 11,
      "metadata": {
        "scrolled": true,
        "colab": {
          "base_uri": "https://localhost:8080/",
          "height": 279
        },
        "id": "SxGRAaB9YFKK",
        "outputId": "bd8c9d90-7e38-4214-c40c-d3d8ce1bb3e0"
      },
      "outputs": [
        {
          "output_type": "display_data",
          "data": {
            "text/plain": [
              "<Figure size 432x288 with 1 Axes>"
            ],
            "image/png": "[encoded data removed]"
          },
          "metadata": {
            "needs_background": "light"
          }
        }
      ],
      "source": [
        "fig,ax = plt.subplots()\n",
        "ax.hist(df[\"spread\"],bins = [0.5+i for i in range(6)],density = True)\n",
        "ax.set_xlabel(\"spread\")\n",
        "ax.set_ylabel(\"density of the spread\");"
      ]
    },
    {
      "cell_type": "code",
      "execution_count": 12,
      "metadata": {
        "colab": {
          "base_uri": "https://localhost:8080/",
          "height": 297
        },
        "id": "u_dUSTMSYFKL",
        "outputId": "ee0022e2-1e5f-4667-cb50-67307975d791"
      },
      "outputs": [
        {
          "output_type": "execute_result",
          "data": {
            "text/plain": [
              "Text(0, 0.5, 'mid movement')"
            ]
          },
          "metadata": {},
          "execution_count": 12
        },
        {
          "output_type": "display_data",
          "data": {
            "text/plain": [
              "<Figure size 432x288 with 1 Axes>"
            ],
            "image/png": "[encoded data removed]"
          },
          "metadata": {
            "needs_background": "light"
          }
        }
      ],
      "source": [
        "incs = df[\"mid\"].diff().dropna()\n",
        "fig,ax = plt.subplots()\n",
        "ax.plot(incs)\n",
        "ax.set_xlabel(\"event number\")\n",
        "ax.set_ylabel(\"mid movement\")"
      ]
    },
    {
      "cell_type": "code",
      "execution_count": 13,
      "metadata": {
        "colab": {
          "base_uri": "https://localhost:8080/"
        },
        "id": "Ypmme7UQYFKL",
        "outputId": "4017511e-c2d3-4dd3-d6b2-fdf9a7e34732"
      },
      "outputs": [
        {
          "output_type": "execute_result",
          "data": {
            "text/plain": [
              "-0.0005018065034122842"
            ]
          },
          "metadata": {},
          "execution_count": 13
        }
      ],
      "source": [
        "np.mean(incs)"
      ]
    },
    {
      "cell_type": "code",
      "execution_count": 14,
      "metadata": {
        "colab": {
          "base_uri": "https://localhost:8080/"
        },
        "id": "9yDRH6hQYFKM",
        "outputId": "0a4bc460-3031-40d2-f11a-ef4c3c7378da"
      },
      "outputs": [
        {
          "output_type": "execute_result",
          "data": {
            "text/plain": [
              "0.0"
            ]
          },
          "metadata": {},
          "execution_count": 14
        }
      ],
      "source": [
        "np.median(incs)"
      ]
    },
    {
      "cell_type": "markdown",
      "metadata": {
        "id": "ERoXe2zUYFKM"
      },
      "source": [
        "As expected, the variation of the med price seems centered (the model is symetric between asks and bids), and is mostly confined to small values (smaller than 0.5), which is not surprising, as a large change in mid price requires a change twice as large in the spread, and since the spread mostly varies between 1 and 2, it can't vary too much either."
      ]
    },
    {
      "cell_type": "code",
      "execution_count": 15,
      "metadata": {
        "scrolled": false,
        "colab": {
          "base_uri": "https://localhost:8080/",
          "height": 567
        },
        "id": "1-Szk_jWYFKM",
        "outputId": "cb407443-1c8c-4663-bad2-c6ffbd39df1c"
      },
      "outputs": [
        {
          "output_type": "display_data",
          "data": {
            "text/plain": [
              "<Figure size 1080x648 with 4 Axes>"
            ],
            "image/png": "[encoded data removed]"
          },
          "metadata": {
            "needs_background": "light"
          }
        }
      ],
      "source": [
        "i = 0\n",
        "j = 0\n",
        "k = 0\n",
        "fig,ax = plt.subplots(2,2, figsize = (15,9))\n",
        "for t in [\"0.0001\",\"0.001\",\"0.01\",\"0.1\"]:\n",
        "    df_resampled = df.resample(t+\"T\",on = \"ts\").first()\n",
        "    incs = df_resampled[\"mid\"].diff().dropna()\n",
        "    ax[i,j].hist(incs,bins = [-5+i/2 for i in range(20)],density = True)\n",
        "    ax[i,j].set_xlabel(\"spread\")\n",
        "    ax[i,j].set_ylabel(\"densitiy\")\n",
        "    ax[i,j].set_title(\"sampling frequency = {} min\".format(t)) \n",
        "    k += 1\n",
        "    j = k//2\n",
        "    i = k%2\n",
        "    "
      ]
    },
    {
      "cell_type": "markdown",
      "metadata": {
        "id": "pHxr83M-YFKN"
      },
      "source": [
        "As expected, for shorts sampling periods, the variation of the mid price spikes at 0, and the larger the sampling period, the wider the distribution of mid variation."
      ]
    },
    {
      "cell_type": "code",
      "execution_count": 16,
      "metadata": {
        "scrolled": true,
        "colab": {
          "base_uri": "https://localhost:8080/",
          "height": 313
        },
        "id": "W84ojRfZYFKN",
        "outputId": "f545feb8-f072-438d-bc23-9bbe06c643e5"
      },
      "outputs": [
        {
          "output_type": "execute_result",
          "data": {
            "text/plain": [
              "Text(0, 0.5, 'autocorellation of mid variations')"
            ]
          },
          "metadata": {},
          "execution_count": 16
        },
        {
          "output_type": "display_data",
          "data": {
            "text/plain": [
              "<Figure size 432x288 with 1 Axes>"
            ],
            "image/png": "[encoded data removed]"
          },
          "metadata": {
            "needs_background": "light"
          }
        }
      ],
      "source": [
        "fig,ax = plt.subplots()\n",
        "incs = df[\"mid\"].diff().dropna()\n",
        "plot_acf(incs, lags=60, ax = ax)\n",
        "ax.set_xlabel(\"lag\")\n",
        "ax.set_ylabel(\"autocorellation of mid variations\")"
      ]
    },
    {
      "cell_type": "markdown",
      "metadata": {
        "id": "voV0wT-eYFKN"
      },
      "source": [
        "The model does not show memory in the mid price variation, which is to be expected, as the events are independant from each other."
      ]
    },
    {
      "cell_type": "code",
      "execution_count": 17,
      "metadata": {
        "scrolled": true,
        "colab": {
          "base_uri": "https://localhost:8080/",
          "height": 279
        },
        "id": "2dkzg7MZYFKN",
        "outputId": "9d7a6e3e-2193-49be-a6ae-63ace257d727"
      },
      "outputs": [
        {
          "output_type": "display_data",
          "data": {
            "text/plain": [
              "<Figure size 432x288 with 1 Axes>"
            ],
            "image/png": "[encoded data removed]"
          },
          "metadata": {
            "needs_background": "light"
          }
        }
      ],
      "source": [
        "vs= []\n",
        "for t in [str(i/100) for i in range(2,400,2)]:\n",
        "    df_resampled = df.resample(t+\"S\",on = \"ts\").first()\n",
        "    incs = df_resampled[\"mid\"].diff().dropna()\n",
        "    vs += [np.var(incs)]\n",
        "fig,ax = plt.subplots()\n",
        "ax.plot([i/10 for i in range(2,400,2)], vs)\n",
        "ax.set_xlabel(\"sampling freq (in secs)\")\n",
        "ax.set_ylabel(\"variance of mid variation\");"
      ]
    },
    {
      "cell_type": "markdown",
      "metadata": {
        "id": "VNq5k0aUYFKO"
      },
      "source": [
        "As expected from the distributions plotted previously, the variance increases with the sampling period. Early on, the variance increases faster, but the rate of progression stabilizes once a sampling period of around 10secs is reached, probably because we can add a lot of variance by removing the peak at 0 in the small sampling periods."
      ]
    },
    {
      "cell_type": "code",
      "execution_count": 17,
      "metadata": {
        "id": "nVT9xVhiYFKO"
      },
      "outputs": [],
      "source": [
        ""
      ]
    }
  ],
  "metadata": {
    "kernelspec": {
      "display_name": "Python 3",
      "language": "python",
      "name": "python3"
    },
    "language_info": {
      "codemirror_mode": {
        "name": "ipython",
        "version": 3
      },
      "file_extension": ".py",
      "mimetype": "text/x-python",
      "name": "python",
      "nbconvert_exporter": "python",
      "pygments_lexer": "ipython3",
      "version": "3.6.7"
    },
    "colab": {
      "name": "DHF6.ipynb",
      "provenance": []
    }
  },
  "nbformat": 4,
  "nbformat_minor": 0
}